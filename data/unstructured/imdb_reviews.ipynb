{
 "cells": [
  {
   "cell_type": "markdown",
   "metadata": {},
   "source": [
    "# **P1. Recogida datos no estructurados. Reviews**\n",
    "\n",
    "**Enlace** al dataset de reviews en Kaggle: https://www.kaggle.com/datasets/jaidalmotra/movies-review "
   ]
  },
  {
   "cell_type": "code",
   "execution_count": 1,
   "metadata": {
    "colab": {
     "base_uri": "https://localhost:8080/"
    },
    "id": "RBZ--YzkyrGN",
    "outputId": "a71e7597-5519-4ca5-c2dc-bbf3c2f5978d"
   },
   "outputs": [
    {
     "name": "stdout",
     "output_type": "stream",
     "text": [
      "Requirement already satisfied: requests in /usr/local/lib/python3.10/dist-packages (2.32.3)\n",
      "Requirement already satisfied: beautifulsoup4 in /usr/local/lib/python3.10/dist-packages (4.12.3)\n",
      "Requirement already satisfied: kagglehub in /usr/local/lib/python3.10/dist-packages (0.3.3)\n",
      "Requirement already satisfied: charset-normalizer<4,>=2 in /usr/local/lib/python3.10/dist-packages (from requests) (3.4.0)\n",
      "Requirement already satisfied: idna<4,>=2.5 in /usr/local/lib/python3.10/dist-packages (from requests) (3.10)\n",
      "Requirement already satisfied: urllib3<3,>=1.21.1 in /usr/local/lib/python3.10/dist-packages (from requests) (2.2.3)\n",
      "Requirement already satisfied: certifi>=2017.4.17 in /usr/local/lib/python3.10/dist-packages (from requests) (2024.8.30)\n",
      "Requirement already satisfied: soupsieve>1.2 in /usr/local/lib/python3.10/dist-packages (from beautifulsoup4) (2.6)\n",
      "Requirement already satisfied: packaging in /usr/local/lib/python3.10/dist-packages (from kagglehub) (24.1)\n",
      "Requirement already satisfied: tqdm in /usr/local/lib/python3.10/dist-packages (from kagglehub) (4.66.6)\n"
     ]
    }
   ],
   "source": [
    "!pip install requests beautifulsoup4 kagglehub"
   ]
  },
  {
   "cell_type": "markdown",
   "metadata": {
    "id": "ASVofz16BC8n"
   },
   "source": [
    "# Captura de reseñas"
   ]
  },
  {
   "cell_type": "code",
   "execution_count": 4,
   "metadata": {
    "colab": {
     "base_uri": "https://localhost:8080/"
    },
    "id": "0dCG-CkN4gML",
    "outputId": "f34ff45f-189a-4370-8013-8803d1674a21"
   },
   "outputs": [
    {
     "name": "stdout",
     "output_type": "stream",
     "text": [
      "Path to dataset files: /home/jovyan/.cache/kagglehub/datasets/jaidalmotra/movies-review/versions/1\n"
     ]
    }
   ],
   "source": [
    "import kagglehub\n",
    "import os\n",
    "import pandas as pd\n",
    "\n",
    "# Download latest version\n",
    "path = kagglehub.dataset_download(\"jaidalmotra/movies-review\")\n",
    "\n",
    "print(\"Path to dataset files:\", path)\n",
    "\n",
    "# List all files in the directory\n",
    "path = os.path.join(path, os.listdir(path)[0])\n",
    "\n",
    "# Create a dictionary to store DataFrames for each genre\n",
    "genre_dfs = {}\n",
    "\n",
    "# Read all CSV files\n",
    "for file_name in os.listdir(path):\n",
    "    df = pd.read_csv(os.path.join(path, file_name))\n",
    "\n",
    "    # Extract the genre from the file name\n",
    "    genre = file_name.split('.')[0]\n",
    "\n",
    "    # Store the DataFrame in the dictionary\n",
    "    genre_dfs[genre] = df"
   ]
  },
  {
   "cell_type": "code",
   "execution_count": 50,
   "metadata": {
    "colab": {
     "base_uri": "https://localhost:8080/"
    },
    "id": "seyUYYqXBWIk",
    "outputId": "5574353a-543e-4684-d3ac-7f981f916f8b"
   },
   "outputs": [
    {
     "name": "stdout",
     "output_type": "stream",
     "text": [
      "Total rows: 1700\n",
      "Unique rows: 1150\n"
     ]
    }
   ],
   "source": [
    "movies_df = pd.concat(genre_dfs.values(), ignore_index=True)\n",
    "print(\"Total rows:\", len(movies_df))\n",
    "movies_df['id'] = movies_df['review_url'].str.extract(r'/title/(tt\\d+)/')\n",
    "movies_df = movies_df.drop_duplicates(subset='id').set_index('id')\n",
    "# movies_df[movies_df['id'] == 'tt0034583']\n",
    "print(\"Unique rows:\", len(movies_df))"
   ]
  },
  {
   "cell_type": "code",
   "execution_count": 51,
   "metadata": {
    "colab": {
     "base_uri": "https://localhost:8080/",
     "height": 398
    },
    "id": "d5DHq7HEJsPw",
    "outputId": "5f77b57b-14ca-4f6a-ef95-9a3fea0be685"
   },
   "outputs": [
    {
     "data": {
      "text/html": [
       "<div>\n",
       "<style scoped>\n",
       "    .dataframe tbody tr th:only-of-type {\n",
       "        vertical-align: middle;\n",
       "    }\n",
       "\n",
       "    .dataframe tbody tr th {\n",
       "        vertical-align: top;\n",
       "    }\n",
       "\n",
       "    .dataframe thead th {\n",
       "        text-align: right;\n",
       "    }\n",
       "</style>\n",
       "<table border=\"1\" class=\"dataframe\">\n",
       "  <thead>\n",
       "    <tr style=\"text-align: right;\">\n",
       "      <th></th>\n",
       "      <th>tt0114369</th>\n",
       "    </tr>\n",
       "  </thead>\n",
       "  <tbody>\n",
       "    <tr>\n",
       "      <th>name</th>\n",
       "      <td>Se7en</td>\n",
       "    </tr>\n",
       "    <tr>\n",
       "      <th>year</th>\n",
       "      <td>1995</td>\n",
       "    </tr>\n",
       "    <tr>\n",
       "      <th>movie_rated</th>\n",
       "      <td>R</td>\n",
       "    </tr>\n",
       "    <tr>\n",
       "      <th>run_length</th>\n",
       "      <td>2h 7min</td>\n",
       "    </tr>\n",
       "    <tr>\n",
       "      <th>genres</th>\n",
       "      <td>Crime; Drama; Mystery;</td>\n",
       "    </tr>\n",
       "    <tr>\n",
       "      <th>release_date</th>\n",
       "      <td>22 September 1995 (USA)</td>\n",
       "    </tr>\n",
       "    <tr>\n",
       "      <th>rating</th>\n",
       "      <td>8.6</td>\n",
       "    </tr>\n",
       "    <tr>\n",
       "      <th>num_raters</th>\n",
       "      <td>1390231</td>\n",
       "    </tr>\n",
       "    <tr>\n",
       "      <th>num_reviews</th>\n",
       "      <td>1460</td>\n",
       "    </tr>\n",
       "    <tr>\n",
       "      <th>review_url</th>\n",
       "      <td>https://www.imdb.com/title/tt0114369/reviews/_...</td>\n",
       "    </tr>\n",
       "  </tbody>\n",
       "</table>\n",
       "</div><br><label><b>dtype:</b> object</label>"
      ],
      "text/plain": [
       "name                                                        Se7en\n",
       "year                                                         1995\n",
       "movie_rated                                                     R\n",
       "run_length                                                2h 7min\n",
       "genres                                    Crime; Drama; Mystery; \n",
       "release_date                              22 September 1995 (USA)\n",
       "rating                                                        8.6\n",
       "num_raters                                                1390231\n",
       "num_reviews                                                  1460\n",
       "review_url      https://www.imdb.com/title/tt0114369/reviews/_...\n",
       "Name: tt0114369, dtype: object"
      ]
     },
     "execution_count": 51,
     "metadata": {},
     "output_type": "execute_result"
    }
   ],
   "source": [
    "movies_df.iloc[0]"
   ]
  },
  {
   "cell_type": "code",
   "execution_count": 52,
   "metadata": {
    "id": "mshP1wUEPj2C"
   },
   "outputs": [],
   "source": [
    "movies_df.to_csv('movies.csv')"
   ]
  },
  {
   "cell_type": "code",
   "execution_count": 67,
   "metadata": {
    "colab": {
     "base_uri": "https://localhost:8080/",
     "height": 255
    },
    "id": "e9PhYMJ4zMXC",
    "outputId": "d6e9b926-d53e-4d1a-d736-099d83ba9761"
   },
   "outputs": [
    {
     "name": "stdout",
     "output_type": "stream",
     "text": [
      "Movie count:  1150"
     ]
    },
    {
     "data": {
      "application/vnd.google.colaboratory.intrinsic+json": {
       "summary": "{\n  \"name\": \"reviews_df\",\n  \"rows\": 28693,\n  \"fields\": [\n    {\n      \"column\": \"id\",\n      \"properties\": {\n        \"dtype\": \"category\",\n        \"num_unique_values\": 1150,\n        \"samples\": [\n          \"tt0094812\",\n          \"tt0091763\",\n          \"tt0947798\"\n        ],\n        \"semantic_type\": \"\",\n        \"description\": \"\"\n      }\n    },\n    {\n      \"column\": \"name\",\n      \"properties\": {\n        \"dtype\": \"category\",\n        \"num_unique_values\": 1145,\n        \"samples\": [\n          \"Suicide Squad\",\n          \"Tigerland\",\n          \"The Machinist\"\n        ],\n        \"semantic_type\": \"\",\n        \"description\": \"\"\n      }\n    },\n    {\n      \"column\": \"review\",\n      \"properties\": {\n        \"dtype\": \"string\",\n        \"num_unique_values\": 28689,\n        \"samples\": [\n          \"Well first of, Bradley Coopers muscle-gain in this movie is amazing and it really is a good and moving performance on his part. This movie has both a love affair and the war drama you would expect from a movie about an American sniper, but neither really catches on. The part of the movie in between deployments doesn't really do anything for the story, and it really reduces the overall impression of this movie. It seems as though this part of the movie hasn't really received as big an effort as the parts when he is deployed in Iraq. The combat scenes are very convincing, they reminded me of Black Hawk Down, and you really can't put a finger on those parts. All in all this is a movie worth while seeing, and it will quite possibly demand an emotional reaction, but then it is soon forgotten. Maybe if i were American and had a sense of American patriotism, i would rate this movie a bit higher.\",\n          \"I guess this is a fictional retelling of actual events. The character of Frank (Denzel Washington) is the story of a man, who because of his own issues with the abuse of being a black man with few prospects, driven to become \\\"great.\\\" Unfortunately, his greatness is tied up in exporting pure heroin from Vietnam and selling it. He is a murderer, a liar, and every way a criminal. He is charming on the outside and deadly on the inside. There is no way that a thinking person could admire him. If his vendetta and his business were directed only at bad guys, we might think that it is OK. But he kills indiscriminately, many dying as innocent victims. Russell Crowe's prosecutor is determined and insightful. He is himself a loner (a role Crowe does well at in many films), but he must butt heads all the way along. He has committed a \\\"crime.\\\" He has found and returned thousands of dollars in drug money found on a case. He is seen as a bit of an idiot and hence not on of \\\"the guys.\\\" Everything plays out well. Two masterful actors doing what they do best. I think my most memorable scene is the one where they come upon the poppy fields in Vietnam where this stuff is being cooked and dried. It would be like going to SonyCorp or some big Asian business; but this is a factory used to make one of the most destructive substances. See this because it is a fascinating story and it is masterfully done.\",\n          \"Four Edinburgh friends Mark Renton (Ewan McGregor), Daniel \\\"Spud\\\" Murphy (Ewen Bremner), Simon \\\"Sick Boy\\\" Williamson (Jonny Lee Miller), and psychopath Francis Begbie (Robert Carlyle) are into the low life heroin addicted junkie world. Renton tries to quit with a couple of final rectal suppositories. He steals clean-cut friend Tommy MacKenzie (Kevin McKidd)'s sex tape with his girlfriend. He chases after Diane Coulston (Kelly Macdonald) from the club but he finds out that she's underage after sleeping with her. The guys go back to doing heroin. Even Tommy starts doing it after dumped by his girlfriend for losing the sex tape.Director Danny Boyle gives a flashy, densely-packed, dark and hilarious vision of the drug life. It is disturbing and funny, sometimes at the same time. It doesn't promote drug use despite some criticism to that fact. The grim and ugliness should dissuade people from using. It is a wild ride and something unique.\"\n        ],\n        \"semantic_type\": \"\",\n        \"description\": \"\"\n      }\n    }\n  ]\n}",
       "type": "dataframe",
       "variable_name": "reviews_df"
      },
      "text/html": [
       "\n",
       "  <div id=\"df-88cdfbb2-c852-4038-a79a-dee9796421bc\" class=\"colab-df-container\">\n",
       "    <div>\n",
       "<style scoped>\n",
       "    .dataframe tbody tr th:only-of-type {\n",
       "        vertical-align: middle;\n",
       "    }\n",
       "\n",
       "    .dataframe tbody tr th {\n",
       "        vertical-align: top;\n",
       "    }\n",
       "\n",
       "    .dataframe thead th {\n",
       "        text-align: right;\n",
       "    }\n",
       "</style>\n",
       "<table border=\"1\" class=\"dataframe\">\n",
       "  <thead>\n",
       "    <tr style=\"text-align: right;\">\n",
       "      <th></th>\n",
       "      <th>name</th>\n",
       "      <th>review</th>\n",
       "    </tr>\n",
       "    <tr>\n",
       "      <th>id</th>\n",
       "      <th></th>\n",
       "      <th></th>\n",
       "    </tr>\n",
       "  </thead>\n",
       "  <tbody>\n",
       "    <tr>\n",
       "      <th>tt0114369</th>\n",
       "      <td>Se7en</td>\n",
       "      <td>Detective Lt. William Somerset (Morgan Freeman...</td>\n",
       "    </tr>\n",
       "    <tr>\n",
       "      <th>tt0114369</th>\n",
       "      <td>Se7en</td>\n",
       "      <td>It is a rarity for a film to be completely uns...</td>\n",
       "    </tr>\n",
       "    <tr>\n",
       "      <th>tt0114369</th>\n",
       "      <td>Se7en</td>\n",
       "      <td>The movie, \"Se7en\", starring Brad Pitt, Morgan...</td>\n",
       "    </tr>\n",
       "    <tr>\n",
       "      <th>tt0114369</th>\n",
       "      <td>Se7en</td>\n",
       "      <td>After his calamitous experience working on his...</td>\n",
       "    </tr>\n",
       "    <tr>\n",
       "      <th>tt0114369</th>\n",
       "      <td>Se7en</td>\n",
       "      <td>From David Fincher, Se7en is a compelling and ...</td>\n",
       "    </tr>\n",
       "  </tbody>\n",
       "</table>\n",
       "</div>\n",
       "    <div class=\"colab-df-buttons\">\n",
       "\n",
       "  <div class=\"colab-df-container\">\n",
       "    <button class=\"colab-df-convert\" onclick=\"convertToInteractive('df-88cdfbb2-c852-4038-a79a-dee9796421bc')\"\n",
       "            title=\"Convert this dataframe to an interactive table.\"\n",
       "            style=\"display:none;\">\n",
       "\n",
       "  <svg xmlns=\"http://www.w3.org/2000/svg\" height=\"24px\" viewBox=\"0 -960 960 960\">\n",
       "    <path d=\"M120-120v-720h720v720H120Zm60-500h600v-160H180v160Zm220 220h160v-160H400v160Zm0 220h160v-160H400v160ZM180-400h160v-160H180v160Zm440 0h160v-160H620v160ZM180-180h160v-160H180v160Zm440 0h160v-160H620v160Z\"/>\n",
       "  </svg>\n",
       "    </button>\n",
       "\n",
       "  <style>\n",
       "    .colab-df-container {\n",
       "      display:flex;\n",
       "      gap: 12px;\n",
       "    }\n",
       "\n",
       "    .colab-df-convert {\n",
       "      background-color: #E8F0FE;\n",
       "      border: none;\n",
       "      border-radius: 50%;\n",
       "      cursor: pointer;\n",
       "      display: none;\n",
       "      fill: #1967D2;\n",
       "      height: 32px;\n",
       "      padding: 0 0 0 0;\n",
       "      width: 32px;\n",
       "    }\n",
       "\n",
       "    .colab-df-convert:hover {\n",
       "      background-color: #E2EBFA;\n",
       "      box-shadow: 0px 1px 2px rgba(60, 64, 67, 0.3), 0px 1px 3px 1px rgba(60, 64, 67, 0.15);\n",
       "      fill: #174EA6;\n",
       "    }\n",
       "\n",
       "    .colab-df-buttons div {\n",
       "      margin-bottom: 4px;\n",
       "    }\n",
       "\n",
       "    [theme=dark] .colab-df-convert {\n",
       "      background-color: #3B4455;\n",
       "      fill: #D2E3FC;\n",
       "    }\n",
       "\n",
       "    [theme=dark] .colab-df-convert:hover {\n",
       "      background-color: #434B5C;\n",
       "      box-shadow: 0px 1px 3px 1px rgba(0, 0, 0, 0.15);\n",
       "      filter: drop-shadow(0px 1px 2px rgba(0, 0, 0, 0.3));\n",
       "      fill: #FFFFFF;\n",
       "    }\n",
       "  </style>\n",
       "\n",
       "    <script>\n",
       "      const buttonEl =\n",
       "        document.querySelector('#df-88cdfbb2-c852-4038-a79a-dee9796421bc button.colab-df-convert');\n",
       "      buttonEl.style.display =\n",
       "        google.colab.kernel.accessAllowed ? 'block' : 'none';\n",
       "\n",
       "      async function convertToInteractive(key) {\n",
       "        const element = document.querySelector('#df-88cdfbb2-c852-4038-a79a-dee9796421bc');\n",
       "        const dataTable =\n",
       "          await google.colab.kernel.invokeFunction('convertToInteractive',\n",
       "                                                    [key], {});\n",
       "        if (!dataTable) return;\n",
       "\n",
       "        const docLinkHtml = 'Like what you see? Visit the ' +\n",
       "          '<a target=\"_blank\" href=https://colab.research.google.com/notebooks/data_table.ipynb>data table notebook</a>'\n",
       "          + ' to learn more about interactive tables.';\n",
       "        element.innerHTML = '';\n",
       "        dataTable['output_type'] = 'display_data';\n",
       "        await google.colab.output.renderOutput(dataTable, element);\n",
       "        const docLink = document.createElement('div');\n",
       "        docLink.innerHTML = docLinkHtml;\n",
       "        element.appendChild(docLink);\n",
       "      }\n",
       "    </script>\n",
       "  </div>\n",
       "\n",
       "\n",
       "<div id=\"df-f63be924-7702-46c8-8171-30749e40cb53\">\n",
       "  <button class=\"colab-df-quickchart\" onclick=\"quickchart('df-f63be924-7702-46c8-8171-30749e40cb53')\"\n",
       "            title=\"Suggest charts\"\n",
       "            style=\"display:none;\">\n",
       "\n",
       "<svg xmlns=\"http://www.w3.org/2000/svg\" height=\"24px\"viewBox=\"0 0 24 24\"\n",
       "     width=\"24px\">\n",
       "    <g>\n",
       "        <path d=\"M19 3H5c-1.1 0-2 .9-2 2v14c0 1.1.9 2 2 2h14c1.1 0 2-.9 2-2V5c0-1.1-.9-2-2-2zM9 17H7v-7h2v7zm4 0h-2V7h2v10zm4 0h-2v-4h2v4z\"/>\n",
       "    </g>\n",
       "</svg>\n",
       "  </button>\n",
       "\n",
       "<style>\n",
       "  .colab-df-quickchart {\n",
       "      --bg-color: #E8F0FE;\n",
       "      --fill-color: #1967D2;\n",
       "      --hover-bg-color: #E2EBFA;\n",
       "      --hover-fill-color: #174EA6;\n",
       "      --disabled-fill-color: #AAA;\n",
       "      --disabled-bg-color: #DDD;\n",
       "  }\n",
       "\n",
       "  [theme=dark] .colab-df-quickchart {\n",
       "      --bg-color: #3B4455;\n",
       "      --fill-color: #D2E3FC;\n",
       "      --hover-bg-color: #434B5C;\n",
       "      --hover-fill-color: #FFFFFF;\n",
       "      --disabled-bg-color: #3B4455;\n",
       "      --disabled-fill-color: #666;\n",
       "  }\n",
       "\n",
       "  .colab-df-quickchart {\n",
       "    background-color: var(--bg-color);\n",
       "    border: none;\n",
       "    border-radius: 50%;\n",
       "    cursor: pointer;\n",
       "    display: none;\n",
       "    fill: var(--fill-color);\n",
       "    height: 32px;\n",
       "    padding: 0;\n",
       "    width: 32px;\n",
       "  }\n",
       "\n",
       "  .colab-df-quickchart:hover {\n",
       "    background-color: var(--hover-bg-color);\n",
       "    box-shadow: 0 1px 2px rgba(60, 64, 67, 0.3), 0 1px 3px 1px rgba(60, 64, 67, 0.15);\n",
       "    fill: var(--button-hover-fill-color);\n",
       "  }\n",
       "\n",
       "  .colab-df-quickchart-complete:disabled,\n",
       "  .colab-df-quickchart-complete:disabled:hover {\n",
       "    background-color: var(--disabled-bg-color);\n",
       "    fill: var(--disabled-fill-color);\n",
       "    box-shadow: none;\n",
       "  }\n",
       "\n",
       "  .colab-df-spinner {\n",
       "    border: 2px solid var(--fill-color);\n",
       "    border-color: transparent;\n",
       "    border-bottom-color: var(--fill-color);\n",
       "    animation:\n",
       "      spin 1s steps(1) infinite;\n",
       "  }\n",
       "\n",
       "  @keyframes spin {\n",
       "    0% {\n",
       "      border-color: transparent;\n",
       "      border-bottom-color: var(--fill-color);\n",
       "      border-left-color: var(--fill-color);\n",
       "    }\n",
       "    20% {\n",
       "      border-color: transparent;\n",
       "      border-left-color: var(--fill-color);\n",
       "      border-top-color: var(--fill-color);\n",
       "    }\n",
       "    30% {\n",
       "      border-color: transparent;\n",
       "      border-left-color: var(--fill-color);\n",
       "      border-top-color: var(--fill-color);\n",
       "      border-right-color: var(--fill-color);\n",
       "    }\n",
       "    40% {\n",
       "      border-color: transparent;\n",
       "      border-right-color: var(--fill-color);\n",
       "      border-top-color: var(--fill-color);\n",
       "    }\n",
       "    60% {\n",
       "      border-color: transparent;\n",
       "      border-right-color: var(--fill-color);\n",
       "    }\n",
       "    80% {\n",
       "      border-color: transparent;\n",
       "      border-right-color: var(--fill-color);\n",
       "      border-bottom-color: var(--fill-color);\n",
       "    }\n",
       "    90% {\n",
       "      border-color: transparent;\n",
       "      border-bottom-color: var(--fill-color);\n",
       "    }\n",
       "  }\n",
       "</style>\n",
       "\n",
       "  <script>\n",
       "    async function quickchart(key) {\n",
       "      const quickchartButtonEl =\n",
       "        document.querySelector('#' + key + ' button');\n",
       "      quickchartButtonEl.disabled = true;  // To prevent multiple clicks.\n",
       "      quickchartButtonEl.classList.add('colab-df-spinner');\n",
       "      try {\n",
       "        const charts = await google.colab.kernel.invokeFunction(\n",
       "            'suggestCharts', [key], {});\n",
       "      } catch (error) {\n",
       "        console.error('Error during call to suggestCharts:', error);\n",
       "      }\n",
       "      quickchartButtonEl.classList.remove('colab-df-spinner');\n",
       "      quickchartButtonEl.classList.add('colab-df-quickchart-complete');\n",
       "    }\n",
       "    (() => {\n",
       "      let quickchartButtonEl =\n",
       "        document.querySelector('#df-f63be924-7702-46c8-8171-30749e40cb53 button');\n",
       "      quickchartButtonEl.style.display =\n",
       "        google.colab.kernel.accessAllowed ? 'block' : 'none';\n",
       "    })();\n",
       "  </script>\n",
       "</div>\n",
       "\n",
       "    </div>\n",
       "  </div>\n"
      ],
      "text/plain": [
       "            name                                             review\n",
       "id                                                                 \n",
       "tt0114369  Se7en  Detective Lt. William Somerset (Morgan Freeman...\n",
       "tt0114369  Se7en  It is a rarity for a film to be completely uns...\n",
       "tt0114369  Se7en  The movie, \"Se7en\", starring Brad Pitt, Morgan...\n",
       "tt0114369  Se7en  After his calamitous experience working on his...\n",
       "tt0114369  Se7en  From David Fincher, Se7en is a compelling and ..."
      ]
     },
     "execution_count": 67,
     "metadata": {},
     "output_type": "execute_result"
    }
   ],
   "source": [
    "import requests\n",
    "from bs4 import BeautifulSoup\n",
    "\n",
    "def extract_imdb_reviews(url):\n",
    "    # Send a GET request to the URL\n",
    "    response = requests.get(url)\n",
    "\n",
    "    # Check if the request was successful\n",
    "    if response.status_code == 200:\n",
    "        # Parse the HTML content\n",
    "        soup = BeautifulSoup(response.text, 'html.parser')\n",
    "\n",
    "        # Find all review containers\n",
    "        review_containers = soup.find_all('div', class_='review-container')\n",
    "\n",
    "        reviews = []\n",
    "        for container in review_containers:\n",
    "            # Extract the review text\n",
    "            review_text = container.find('div', class_='text show-more__control').text.strip()\n",
    "            reviews.append(review_text)\n",
    "\n",
    "        return reviews\n",
    "    else:\n",
    "        print(f\"Failed to retrieve the page. Status code: {response.status_code}\")\n",
    "        return []\n",
    "\n",
    "reviews_data = []\n",
    "\n",
    "# URL of the IMDB reviews page\n",
    "for i, (movie_id, movie) in enumerate(movies_df.iterrows()):\n",
    "  print(\"\\rMovie count: \", i+1, end=\"\")\n",
    "  movie_name = movie['name']\n",
    "  movie_url = movie['review_url']\n",
    "  reviews = extract_imdb_reviews(movie_url)\n",
    "  for review in reviews:\n",
    "    reviews_data.append({'id': movie_id, 'name': movie_name, 'review': review})\n",
    "\n",
    "# Convert the list of dictionaries into a DataFrame\n",
    "reviews_df = pd.DataFrame(reviews_data)\n",
    "\n",
    "# Set 'id' as the index\n",
    "reviews_df.set_index('id', inplace=True)\n",
    "\n",
    "reviews_df.head()"
   ]
  },
  {
   "cell_type": "code",
   "execution_count": 70,
   "metadata": {
    "id": "UdEHukCUU1JN"
   },
   "outputs": [],
   "source": [
    "reviews_df.to_csv('reviews.csv')"
   ]
  },
  {
   "cell_type": "code",
   "execution_count": 5,
   "metadata": {},
   "outputs": [],
   "source": [
    "cleaned_df = pd.read_csv(\"./reviews.csv\")"
   ]
  },
  {
   "cell_type": "code",
   "execution_count": 7,
   "metadata": {},
   "outputs": [
    {
     "data": {
      "text/html": [
       "<div>\n",
       "<style scoped>\n",
       "    .dataframe tbody tr th:only-of-type {\n",
       "        vertical-align: middle;\n",
       "    }\n",
       "\n",
       "    .dataframe tbody tr th {\n",
       "        vertical-align: top;\n",
       "    }\n",
       "\n",
       "    .dataframe thead th {\n",
       "        text-align: right;\n",
       "    }\n",
       "</style>\n",
       "<table border=\"1\" class=\"dataframe\">\n",
       "  <thead>\n",
       "    <tr style=\"text-align: right;\">\n",
       "      <th></th>\n",
       "      <th>id</th>\n",
       "      <th>name</th>\n",
       "      <th>review</th>\n",
       "    </tr>\n",
       "  </thead>\n",
       "  <tbody>\n",
       "    <tr>\n",
       "      <th>0</th>\n",
       "      <td>tt0114369</td>\n",
       "      <td>Se7en</td>\n",
       "      <td>Detective Lt. William Somerset (Morgan Freeman...</td>\n",
       "    </tr>\n",
       "    <tr>\n",
       "      <th>1</th>\n",
       "      <td>tt0114369</td>\n",
       "      <td>Se7en</td>\n",
       "      <td>It is a rarity for a film to be completely uns...</td>\n",
       "    </tr>\n",
       "    <tr>\n",
       "      <th>2</th>\n",
       "      <td>tt0114369</td>\n",
       "      <td>Se7en</td>\n",
       "      <td>The movie, \"Se7en\", starring Brad Pitt, Morgan...</td>\n",
       "    </tr>\n",
       "    <tr>\n",
       "      <th>3</th>\n",
       "      <td>tt0114369</td>\n",
       "      <td>Se7en</td>\n",
       "      <td>After his calamitous experience working on his...</td>\n",
       "    </tr>\n",
       "    <tr>\n",
       "      <th>4</th>\n",
       "      <td>tt0114369</td>\n",
       "      <td>Se7en</td>\n",
       "      <td>From David Fincher, Se7en is a compelling and ...</td>\n",
       "    </tr>\n",
       "  </tbody>\n",
       "</table>\n",
       "</div>"
      ],
      "text/plain": [
       "          id   name                                             review\n",
       "0  tt0114369  Se7en  Detective Lt. William Somerset (Morgan Freeman...\n",
       "1  tt0114369  Se7en  It is a rarity for a film to be completely uns...\n",
       "2  tt0114369  Se7en  The movie, \"Se7en\", starring Brad Pitt, Morgan...\n",
       "3  tt0114369  Se7en  After his calamitous experience working on his...\n",
       "4  tt0114369  Se7en  From David Fincher, Se7en is a compelling and ..."
      ]
     },
     "execution_count": 7,
     "metadata": {},
     "output_type": "execute_result"
    }
   ],
   "source": [
    "cleaned_df[0:5]"
   ]
  },
  {
   "cell_type": "markdown",
   "metadata": {},
   "source": [
    "## Inserción en ElasticSearch"
   ]
  },
  {
   "cell_type": "code",
   "execution_count": 8,
   "metadata": {},
   "outputs": [],
   "source": [
    "import json\n",
    "from elasticsearch import Elasticsearch\n",
    "es = Elasticsearch (\"http://elasticsearch:9200\")"
   ]
  },
  {
   "cell_type": "code",
   "execution_count": 9,
   "metadata": {
    "tags": []
   },
   "outputs": [
    {
     "name": "stdout",
     "output_type": "stream",
     "text": [
      "Índice reviews creado.\n"
     ]
    }
   ],
   "source": [
    "if not es.indices.exists(index=\"reviews\"):\n",
    "    es.indices.create(index=\"reviews\")\n",
    "    print(\"Índice reviews creado.\")\n",
    "else:\n",
    "    print(\"El índice reviews ya existe.\")\n"
   ]
  },
  {
   "cell_type": "code",
   "execution_count": 10,
   "metadata": {},
   "outputs": [],
   "source": [
    "### Normalizacion\n",
    "\n",
    "import re\n",
    "def clean_text(text):\n",
    "    # Convert to lowercase\n",
    "    text = text.lower()\n",
    "    # Remove punctuation\n",
    "    text = re.sub(r'[^\\w\\s]', '', text)\n",
    "    # Remove extra whitespace\n",
    "    text = re.sub(r'\\s+', ' ', text).strip()\n",
    "    return text\n",
    "\n",
    "cleaned_df['review'] = cleaned_df['review'].apply(clean_text)"
   ]
  },
  {
   "cell_type": "code",
   "execution_count": 11,
   "metadata": {},
   "outputs": [
    {
     "data": {
      "text/plain": [
       "{'_index': 'reviews',\n",
       " '_id': 'tt0114369',\n",
       " '_source': {'name': 'Se7en',\n",
       "  'review': 'it is a rarity for a film to be completely unsettling and yet unrelentingly grippingdavid finchers story takes place in a bleak and constantly raining city never named where urban decay and sleaze in all forms are rampant coming up to his retirement from the police force is detective lieutenant somerset morgan freeman who is tasked with breaking in his replacement detective sergeant mills brad pitt before leaving somerset is world weary under no illusions about the futility of the daily role he plays and initially wants nothing more than to escape the grime and violence of the city mills on the other hand is convinced that he is going to make a real difference having voluntarily transferred to this precinct bringing his wife to the city with him before somerset can move on a homicide comes in which he and mills are assigned to investigate but its only the first of a string of ritual murders that will be committed by a killer who is basing his crimes on the seven deadly sins as depicted in dantes the divine comedyto begin with se7en appears to be a standard cops on the trail of a killer story which shouldnt be too difficult for the audience to get comfortable with but as we descend along with the characters into the merciless brutal world without hope that they inhabit you are left reeling at the events that unfoldthe two detectives enjoy an uneasy relationship with no real friendship ever striking up between them the older somerset is educated astute and gives the impression of being emotionally burnt out mills who has no respect for somersets methodical investigating gets excited at the thought of solving a murder and firmly believes that the good guys will win eventually the further we get into the action the might of the evil that they face pushes both men beyond their limitsthis film draws heavily on biblical themes and you can certainly see similarities with such films as the seventh seal 1957 both films show the price that good men have to pay when they fight evil and the unsettling truth that the rule book goes straight out the window when you are dealing with something so diabolical that it has no boundaries or limits at allse7en shows us a world which has been destroyed by its own sins a wasteland in which values are minimal the killer having nothing but contempt for this world sees it as his mission to expose the faults and show everyone what they have become it is a fascinating twist that when the killers motives become clearer somerset with his greater understanding actually feels some degree of empathy with him this is lost on mills though whose level of clarity never reaches the same pointa previous reviewer mentioned that you begin to expect the unexpected whilst watching se7en and i completely agree eventually if you think of the most obvious outcome in any situation and predict that the opposite will happen it usually does even the finale itself became kind of predictable because by then you are conditioned not to have any hope this is a minor flaw though because the story is so well and so shockingly tolddirector david fincher didnt pick up another script for 18 months such was his exhaustion and frustration following the completion of alien 3 apparently he agreed to direct se7en after one reading of andrew kevin walkers screenplay because he was drawn to its hard hitting delivery about inhumanity he stated its psychologically violent it implies so much not about why you did but how you did it for the camera work specially altered film stock was used to make the visuals look as dark and unsettling as possible which is complemented well by howard shores music scorethe most disturbing message that se7en puts across is that the fight against evil is destined to be a pyrrhic victory but regardless the only thing we can do is fight on whatever the cost we have no other choicethe world is a fine place and worth fighting for i agree with the second part'}}"
      ]
     },
     "execution_count": 11,
     "metadata": {},
     "output_type": "execute_result"
    }
   ],
   "source": [
    "from elasticsearch.helpers import bulk\n",
    "\n",
    "docs = []\n",
    "columns = cleaned_df.columns\n",
    "for idx, row in cleaned_df.iterrows():\n",
    "    # Crea el documento con los campos `id`, `name` y `review`\n",
    "    tupla = {\n",
    "        '_index': 'reviews',\n",
    "        '_id': row[columns[0]],\n",
    "        '_source': {\n",
    "            columns[1]: row[columns[1]],  # `name`\n",
    "            columns[2]: row[columns[2]]   # `review`\n",
    "        }\n",
    "    }\n",
    "    \n",
    "    docs.append(tupla)\n",
    "\n",
    "# Verifica el contenido del segundo documento en la lista\n",
    "docs[1]"
   ]
  },
  {
   "cell_type": "code",
   "execution_count": 12,
   "metadata": {},
   "outputs": [
    {
     "name": "stdout",
     "output_type": "stream",
     "text": [
      "(28693, [])\n"
     ]
    }
   ],
   "source": [
    "# Index the documents in bulk\n",
    "\n",
    "res = bulk(es, docs)\n",
    "print(res)"
   ]
  },
  {
   "cell_type": "code",
   "execution_count": null,
   "metadata": {},
   "outputs": [],
   "source": [
    "### Ejemplo de consulta sobre el director M. Night Shyamalan"
   ]
  },
  {
   "cell_type": "code",
   "execution_count": 14,
   "metadata": {
    "scrolled": true
   },
   "outputs": [
    {
     "name": "stdout",
     "output_type": "stream",
     "text": [
      "{\n",
      "    \"took\": 14,\n",
      "    \"timed_out\": false,\n",
      "    \"_shards\": {\n",
      "        \"total\": 1,\n",
      "        \"successful\": 1,\n",
      "        \"skipped\": 0,\n",
      "        \"failed\": 0\n",
      "    },\n",
      "    \"hits\": {\n",
      "        \"total\": {\n",
      "            \"value\": 4,\n",
      "            \"relation\": \"eq\"\n",
      "        },\n",
      "        \"max_score\": 7.9168596,\n",
      "        \"hits\": [\n",
      "            {\n",
      "                \"_index\": \"reviews\",\n",
      "                \"_type\": \"_doc\",\n",
      "                \"_id\": \"tt0368447\",\n",
      "                \"_score\": 7.9168596,\n",
      "                \"_ignored\": [\n",
      "                    \"review.keyword\"\n",
      "                ],\n",
      "                \"_source\": {\n",
      "                    \"name\": \"The Village\",\n",
      "                    \"review\": \"how does one write an intelligent coherent review of a movie that made me feel like i was not only cheated but done so at a shameless way m night shyamalan has for the last three out of five movies focused on making scifihorror films that rely on only one thing a fantastic twist at or near the movies climax or critical point which of course would make you the viewer do a doubletake and applaud him for doing something so breathtaking and original that it would in itself trump the big revelation in vertigo 1957 or the final big denouement scene in witness for the prosecution also 1957 with the sixth sense 1999 he had a honest hit a revelation of a movie director with talent to spare but once he made signs 2002 it was clear the cheap twist is all he is aboutwhat can one do when one has to listen to the most godawful dialog in recent film history judy greer whom ive seen in movies of varying quality and the tv series arrested development decides to proclaim her love for joaquin phoenix with an intensity that rivals that of peter finchs speech take your pick there are at least five as howard beale in network 1976 but since here her lines are so horrible its unintentionally funny as a matter of fact everyone speaks in that odd pilgrimlike choice of words and utters sentences like what is your meaning and i know that thing that is in your head as if it were written by paddy chayefsky or joseph mankiewicz or even shakespeare it is done so totally deadpan that it becomes painful to watch and more than once i looked at the time to see how much more i would have to endure because when a story like this is devoid of even a slight bit of humor and is equally pointless actions must be takenfor a director to state that he has been influenced by alfred hitchcock there has to be some proof in his work choices of takes and scenes choices of actorsactresses choices of stories to tell music among other things shyamalan may say he is influenced by hitchcock all he wants but if he is so i cant see it the use of red here an important part of the story has been done masterfully by hitchcock in the aforementioned vertigo 1957 and marnie 1964 and better still by ingmar bergmans cries and whispers 1972 also hitchcock was the master of suspense he gave us enough information for us to know what is happening at the moment and then cranked up the mounting intensity to a fever pitch like the masterful albert hall sequence in the man who knew too much 1956 or the scene in north by northwest 1959 where cary grant is left waiting for his ride in the middle of a cornfield and slowly but surely a plane materializes we know there is something about to happen just not what or if it will actually take placesadly enough there is zero suspense here the events that take place in covington pa fail to cause any sort of empathy or reaction and the only real scene that introduces danger about to strike a major character seems so contrived it begs for a reason to exist why would bryce dallas howard stand at the threshold extending her arm outward when it is clear there are things out there in the dark because the plot had her do so not because there was a need for itso many ways to have told this story and genuinely introduce the twist without cheating the audience with holes as large as the ozone layer for the convenience and whims of the plot shyamalan decides to cop out waste some good talent or if seen differently use high profile names like sigourney weaver william hurt brendan gleeson and adrien brody fresh out of his oscar win to ensure viewers make some easy money cash on his newfound fame and produce a hattrick that doesnt have a rabbit and basically gives no new insights and that is a sad thing for a director to do if he purportedly is to consider himself seriousand one last thing shyamalan needs to take his name off the title of the movie since he is not at the stature of a kubrick or the aforementioned hitchcock he needs a little lesson in humility and return to making actual movies not travesties\"\n",
      "                }\n",
      "            },\n",
      "            {\n",
      "                \"_index\": \"reviews\",\n",
      "                \"_type\": \"_doc\",\n",
      "                \"_id\": \"tt0286106\",\n",
      "                \"_score\": 7.1028996,\n",
      "                \"_ignored\": [\n",
      "                    \"review.keyword\"\n",
      "                ],\n",
      "                \"_source\": {\n",
      "                    \"name\": \"Signs\",\n",
      "                    \"review\": \"as a longtime science fiction fan and as a scientist i was not prepared for the insult foisted upon this viewer by this miscarriage of the legacy of true science fiction if one wishes to have a movie about faith and redemption fine but dont trash a whole genre in the process with unbelievable sloppiness three years after seeing the film i still feel insultedspoilers why would an intelligent life form capable of traversing untold distances and for whom contact with water is fatal choose a planet for invasion whose surface is predominantly water why would that intelligent life form be incapable of sufficient intelligence and tools to free itself from an ordinary locked room why would those beings choose to prey on beings that are primarily composed of that substance they find fatal the list goes on and on but the bottom line is that some director with no feel and obviously no respect for the genre choose that genre for his vehicle oh yeah name stars and next time i see the name m night shyamalan ill forego the experience\"\n",
      "                }\n",
      "            },\n",
      "            {\n",
      "                \"_index\": \"reviews\",\n",
      "                \"_type\": \"_doc\",\n",
      "                \"_id\": \"tt0949731\",\n",
      "                \"_score\": 5.5186315,\n",
      "                \"_ignored\": [\n",
      "                    \"review.keyword\"\n",
      "                ],\n",
      "                \"_source\": {\n",
      "                    \"name\": \"The Happening\",\n",
      "                    \"review\": \"m night shyamalan started with a great idea for this movie mother nature taking revenge on mankind for abusing the planet this could have been a truly amazing film what this turned out to be is something that should have been left on the cutting room floor to be swept away and left to rot in a landfill in terms of quality this movie makes manos the hands of fate look like the silence of the lambsthe movie starts out okay mark wahlberg plays a quirky science professor his class discussions suggest some foreshadowing and expertise behind future events however these expectations fall dreadfully short from being fulfilled actually all expectations for this film are refuted the storyline is bland and has no real plot early in the film one event sets the wheels in motion for the rising action thats pretty much where the movie plateaus there is no driving force to carry you through to the endthe dialogue is synthetic and clumsy if i were facing a lifethreatening environmental crisis i would be discussing things relevant to the events athand these people had the most odd insignificant things to say it was absolutely ludicrous some scenes were so bizarre that all i could say was wtf the actors performances were equally as hollow as the individuals they portrayed the characters have no depth and offer no additional substance to this film no glimpse into something that might ignite a plot twist or even more importantly a plot the general overall feeling was as if everyone were fumbling their way through the script for the first time mark wahlberg is typically a very good actor in this movie his acting seems forced and unnatural the closest comparison i can think of is watching his reaction to someone repeatedly snapping a rubber band against his face zoey deschanels character seems oblivious and disinterested in the events surrounding her john leguizamo was slightly more convincing but very awkwardi thought the fantastic four sequel was awful but this by far takes the golden turkey for the worst movie i have seen in the past year i would rather chew on broken glass and gargle lemon juice than watch this againmy rating 110 stars\"\n",
      "                }\n",
      "            },\n",
      "            {\n",
      "                \"_index\": \"reviews\",\n",
      "                \"_type\": \"_doc\",\n",
      "                \"_id\": \"tt0167404\",\n",
      "                \"_score\": 4.920053,\n",
      "                \"_ignored\": [\n",
      "                    \"review.keyword\"\n",
      "                ],\n",
      "                \"_source\": {\n",
      "                    \"name\": \"The Sixth Sense\",\n",
      "                    \"review\": \"review the sixth sense director m night shyamalamas a film which has undoubtedly caught the eye of the film going world it was difficult to avoid the surrounding hype and publicity luckily most of the people i had spoken to who had seen the film did not spoil the twist at the end which although is rather a laboured point by now in reviews certainly adds to the oh i see now factorthe story revolves around a child psychologist played characteristically by bruce willis i say characteristically because although his portrayal is quite real and at times touching there always seems to be an unnerving die hardness to his speech lending the dialogue some comical qualities having said that his overall attempts at revealing the vulnerable and disturbed psyche of his character achieve good results as the psychologist he is plagued by a particular event in his professional life which he perceives as his personal failure and sets out to redeem himself by righting the wrong and wiping his failure from his conscience this opportunity presents itself to him in the form of cole sear played devastatingly well by hayley joel osment cole has a problem he sees dead people to the outside world he is seen as a loner a problem child and has become increasingly isolated hence the need for a child psychologist once we have been introduced to these two central players we are taken on a journey of discovery as both of these characters in the space of the film will learn a great deal about each other themselves and human natureit is this particular point which the film attempts to address so strongly human communication that when this breaks down an inevitable cycle of interpersonal destruction takes course sometimes irreversible this is framed within the context of a superbly told ghost story the sheer truthfulness and honesty with which the concept of fear is expressed by all the characters is breathtaking coles experience of the walking dead appearing out of nowhere malcolms fear of a deteriorating marriage and coles mothers fear relating to her own existential angst all of these are played against the backdrop of the often difficult but finally warm relationship between cole and malcolm eventually and against the odds each character displays courage and bravery as they face up to their existential and supernatural fearsthere are one or two niggling problems plot wise but in a film where the overall atmosphere created is one which encompasses death fear and finally hope it is impossible not to overlook incongruencies superb direction acting and ambience lead me to think that m night shyamalan has really succeeded in telling a chillingly touching story about the triumph of the human spiritfebruary 14 2000 harshad c keval\"\n",
      "                }\n",
      "            }\n",
      "        ]\n",
      "    }\n",
      "}\n"
     ]
    }
   ],
   "source": [
    "res = es.search(index='reviews', body={\n",
    "    'query': {\n",
    "    'match': { 'review': 'Shyamalan' }\n",
    "    }\n",
    "})\n",
    "print(json.dumps(res.body, indent=4))"
   ]
  }
 ],
 "metadata": {
  "colab": {
   "provenance": []
  },
  "kernelspec": {
   "display_name": "Python 3 (ipykernel)",
   "language": "python",
   "name": "python3"
  },
  "language_info": {
   "codemirror_mode": {
    "name": "ipython",
    "version": 3
   },
   "file_extension": ".py",
   "mimetype": "text/x-python",
   "name": "python",
   "nbconvert_exporter": "python",
   "pygments_lexer": "ipython3",
   "version": "3.11.6"
  }
 },
 "nbformat": 4,
 "nbformat_minor": 4
}
