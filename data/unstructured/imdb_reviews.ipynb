{
  "nbformat": 4,
  "nbformat_minor": 0,
  "metadata": {
    "colab": {
      "provenance": []
    },
    "kernelspec": {
      "name": "python3",
      "display_name": "Python 3"
    },
    "language_info": {
      "name": "python"
    }
  },
  "cells": [
    {
      "cell_type": "code",
      "execution_count": 1,
      "metadata": {
        "colab": {
          "base_uri": "https://localhost:8080/"
        },
        "id": "RBZ--YzkyrGN",
        "outputId": "a71e7597-5519-4ca5-c2dc-bbf3c2f5978d"
      },
      "outputs": [
        {
          "output_type": "stream",
          "name": "stdout",
          "text": [
            "Requirement already satisfied: requests in /usr/local/lib/python3.10/dist-packages (2.32.3)\n",
            "Requirement already satisfied: beautifulsoup4 in /usr/local/lib/python3.10/dist-packages (4.12.3)\n",
            "Requirement already satisfied: kagglehub in /usr/local/lib/python3.10/dist-packages (0.3.3)\n",
            "Requirement already satisfied: charset-normalizer<4,>=2 in /usr/local/lib/python3.10/dist-packages (from requests) (3.4.0)\n",
            "Requirement already satisfied: idna<4,>=2.5 in /usr/local/lib/python3.10/dist-packages (from requests) (3.10)\n",
            "Requirement already satisfied: urllib3<3,>=1.21.1 in /usr/local/lib/python3.10/dist-packages (from requests) (2.2.3)\n",
            "Requirement already satisfied: certifi>=2017.4.17 in /usr/local/lib/python3.10/dist-packages (from requests) (2024.8.30)\n",
            "Requirement already satisfied: soupsieve>1.2 in /usr/local/lib/python3.10/dist-packages (from beautifulsoup4) (2.6)\n",
            "Requirement already satisfied: packaging in /usr/local/lib/python3.10/dist-packages (from kagglehub) (24.1)\n",
            "Requirement already satisfied: tqdm in /usr/local/lib/python3.10/dist-packages (from kagglehub) (4.66.6)\n"
          ]
        }
      ],
      "source": [
        "!pip install requests beautifulsoup4 kagglehub"
      ]
    },
    {
      "cell_type": "markdown",
      "source": [
        "# Captura de reseñas"
      ],
      "metadata": {
        "id": "ASVofz16BC8n"
      }
    },
    {
      "cell_type": "code",
      "source": [
        "import kagglehub\n",
        "import os\n",
        "import pandas as pd\n",
        "\n",
        "# Download latest version\n",
        "path = kagglehub.dataset_download(\"jaidalmotra/movies-review\")\n",
        "\n",
        "print(\"Path to dataset files:\", path)\n",
        "\n",
        "# List all files in the directory\n",
        "path = os.path.join(path, os.listdir(path)[0])\n",
        "\n",
        "# Create a dictionary to store DataFrames for each genre\n",
        "genre_dfs = {}\n",
        "\n",
        "# Read all CSV files\n",
        "for file_name in os.listdir(path):\n",
        "    df = pd.read_csv(os.path.join(path, file_name))\n",
        "\n",
        "    # Extract the genre from the file name\n",
        "    genre = file_name.split('.')[0]\n",
        "\n",
        "    # Store the DataFrame in the dictionary\n",
        "    genre_dfs[genre] = df"
      ],
      "metadata": {
        "colab": {
          "base_uri": "https://localhost:8080/"
        },
        "id": "0dCG-CkN4gML",
        "outputId": "f34ff45f-189a-4370-8013-8803d1674a21"
      },
      "execution_count": 2,
      "outputs": [
        {
          "output_type": "stream",
          "name": "stdout",
          "text": [
            "Downloading from https://www.kaggle.com/api/v1/datasets/download/jaidalmotra/movies-review?dataset_version_number=1...\n"
          ]
        },
        {
          "output_type": "stream",
          "name": "stderr",
          "text": [
            "100%|██████████| 74.0k/74.0k [00:00<00:00, 18.3MB/s]"
          ]
        },
        {
          "output_type": "stream",
          "name": "stdout",
          "text": [
            "Extracting files...\n",
            "Path to dataset files: /root/.cache/kagglehub/datasets/jaidalmotra/movies-review/versions/1\n"
          ]
        },
        {
          "output_type": "stream",
          "name": "stderr",
          "text": [
            "\n"
          ]
        }
      ]
    },
    {
      "cell_type": "code",
      "source": [
        "movies_df = pd.concat(genre_dfs.values(), ignore_index=True)\n",
        "print(\"Total rows:\", len(movies_df))\n",
        "movies_df['id'] = movies_df['review_url'].str.extract(r'/title/(tt\\d+)/')\n",
        "movies_df = movies_df.drop_duplicates(subset='id').set_index('id')\n",
        "# movies_df[movies_df['id'] == 'tt0034583']\n",
        "print(\"Unique rows:\", len(movies_df))"
      ],
      "metadata": {
        "colab": {
          "base_uri": "https://localhost:8080/"
        },
        "id": "seyUYYqXBWIk",
        "outputId": "5574353a-543e-4684-d3ac-7f981f916f8b"
      },
      "execution_count": 50,
      "outputs": [
        {
          "output_type": "stream",
          "name": "stdout",
          "text": [
            "Total rows: 1700\n",
            "Unique rows: 1150\n"
          ]
        }
      ]
    },
    {
      "cell_type": "code",
      "source": [
        "movies_df.iloc[0]"
      ],
      "metadata": {
        "colab": {
          "base_uri": "https://localhost:8080/",
          "height": 398
        },
        "id": "d5DHq7HEJsPw",
        "outputId": "5f77b57b-14ca-4f6a-ef95-9a3fea0be685"
      },
      "execution_count": 51,
      "outputs": [
        {
          "output_type": "execute_result",
          "data": {
            "text/plain": [
              "name                                                        Se7en\n",
              "year                                                         1995\n",
              "movie_rated                                                     R\n",
              "run_length                                                2h 7min\n",
              "genres                                    Crime; Drama; Mystery; \n",
              "release_date                              22 September 1995 (USA)\n",
              "rating                                                        8.6\n",
              "num_raters                                                1390231\n",
              "num_reviews                                                  1460\n",
              "review_url      https://www.imdb.com/title/tt0114369/reviews/_...\n",
              "Name: tt0114369, dtype: object"
            ],
            "text/html": [
              "<div>\n",
              "<style scoped>\n",
              "    .dataframe tbody tr th:only-of-type {\n",
              "        vertical-align: middle;\n",
              "    }\n",
              "\n",
              "    .dataframe tbody tr th {\n",
              "        vertical-align: top;\n",
              "    }\n",
              "\n",
              "    .dataframe thead th {\n",
              "        text-align: right;\n",
              "    }\n",
              "</style>\n",
              "<table border=\"1\" class=\"dataframe\">\n",
              "  <thead>\n",
              "    <tr style=\"text-align: right;\">\n",
              "      <th></th>\n",
              "      <th>tt0114369</th>\n",
              "    </tr>\n",
              "  </thead>\n",
              "  <tbody>\n",
              "    <tr>\n",
              "      <th>name</th>\n",
              "      <td>Se7en</td>\n",
              "    </tr>\n",
              "    <tr>\n",
              "      <th>year</th>\n",
              "      <td>1995</td>\n",
              "    </tr>\n",
              "    <tr>\n",
              "      <th>movie_rated</th>\n",
              "      <td>R</td>\n",
              "    </tr>\n",
              "    <tr>\n",
              "      <th>run_length</th>\n",
              "      <td>2h 7min</td>\n",
              "    </tr>\n",
              "    <tr>\n",
              "      <th>genres</th>\n",
              "      <td>Crime; Drama; Mystery;</td>\n",
              "    </tr>\n",
              "    <tr>\n",
              "      <th>release_date</th>\n",
              "      <td>22 September 1995 (USA)</td>\n",
              "    </tr>\n",
              "    <tr>\n",
              "      <th>rating</th>\n",
              "      <td>8.6</td>\n",
              "    </tr>\n",
              "    <tr>\n",
              "      <th>num_raters</th>\n",
              "      <td>1390231</td>\n",
              "    </tr>\n",
              "    <tr>\n",
              "      <th>num_reviews</th>\n",
              "      <td>1460</td>\n",
              "    </tr>\n",
              "    <tr>\n",
              "      <th>review_url</th>\n",
              "      <td>https://www.imdb.com/title/tt0114369/reviews/_...</td>\n",
              "    </tr>\n",
              "  </tbody>\n",
              "</table>\n",
              "</div><br><label><b>dtype:</b> object</label>"
            ]
          },
          "metadata": {},
          "execution_count": 51
        }
      ]
    },
    {
      "cell_type": "code",
      "source": [
        "movies_df.to_csv('movies.csv')"
      ],
      "metadata": {
        "id": "mshP1wUEPj2C"
      },
      "execution_count": 52,
      "outputs": []
    },
    {
      "cell_type": "code",
      "source": [
        "import requests\n",
        "from bs4 import BeautifulSoup\n",
        "\n",
        "def extract_imdb_reviews(url):\n",
        "    # Send a GET request to the URL\n",
        "    response = requests.get(url)\n",
        "\n",
        "    # Check if the request was successful\n",
        "    if response.status_code == 200:\n",
        "        # Parse the HTML content\n",
        "        soup = BeautifulSoup(response.text, 'html.parser')\n",
        "\n",
        "        # Find all review containers\n",
        "        review_containers = soup.find_all('div', class_='review-container')\n",
        "\n",
        "        reviews = []\n",
        "        for container in review_containers:\n",
        "            # Extract the review text\n",
        "            review_text = container.find('div', class_='text show-more__control').text.strip()\n",
        "            reviews.append(review_text)\n",
        "\n",
        "        return reviews\n",
        "    else:\n",
        "        print(f\"Failed to retrieve the page. Status code: {response.status_code}\")\n",
        "        return []\n",
        "\n",
        "reviews_data = []\n",
        "\n",
        "# URL of the IMDB reviews page\n",
        "for i, (movie_id, movie) in enumerate(movies_df.iterrows()):\n",
        "  print(\"\\rMovie count: \", i+1, end=\"\")\n",
        "  movie_name = movie['name']\n",
        "  movie_url = movie['review_url']\n",
        "  reviews = extract_imdb_reviews(movie_url)\n",
        "  for review in reviews:\n",
        "    reviews_data.append({'id': movie_id, 'name': movie_name, 'review': review})\n",
        "\n",
        "# Convert the list of dictionaries into a DataFrame\n",
        "reviews_df = pd.DataFrame(reviews_data)\n",
        "\n",
        "# Set 'id' as the index\n",
        "reviews_df.set_index('id', inplace=True)\n",
        "\n",
        "reviews_df.head()"
      ],
      "metadata": {
        "colab": {
          "base_uri": "https://localhost:8080/",
          "height": 255
        },
        "id": "e9PhYMJ4zMXC",
        "outputId": "d6e9b926-d53e-4d1a-d736-099d83ba9761"
      },
      "execution_count": 67,
      "outputs": [
        {
          "output_type": "stream",
          "name": "stdout",
          "text": [
            "Movie count:  1150"
          ]
        },
        {
          "output_type": "execute_result",
          "data": {
            "text/plain": [
              "            name                                             review\n",
              "id                                                                 \n",
              "tt0114369  Se7en  Detective Lt. William Somerset (Morgan Freeman...\n",
              "tt0114369  Se7en  It is a rarity for a film to be completely uns...\n",
              "tt0114369  Se7en  The movie, \"Se7en\", starring Brad Pitt, Morgan...\n",
              "tt0114369  Se7en  After his calamitous experience working on his...\n",
              "tt0114369  Se7en  From David Fincher, Se7en is a compelling and ..."
            ],
            "text/html": [
              "\n",
              "  <div id=\"df-88cdfbb2-c852-4038-a79a-dee9796421bc\" class=\"colab-df-container\">\n",
              "    <div>\n",
              "<style scoped>\n",
              "    .dataframe tbody tr th:only-of-type {\n",
              "        vertical-align: middle;\n",
              "    }\n",
              "\n",
              "    .dataframe tbody tr th {\n",
              "        vertical-align: top;\n",
              "    }\n",
              "\n",
              "    .dataframe thead th {\n",
              "        text-align: right;\n",
              "    }\n",
              "</style>\n",
              "<table border=\"1\" class=\"dataframe\">\n",
              "  <thead>\n",
              "    <tr style=\"text-align: right;\">\n",
              "      <th></th>\n",
              "      <th>name</th>\n",
              "      <th>review</th>\n",
              "    </tr>\n",
              "    <tr>\n",
              "      <th>id</th>\n",
              "      <th></th>\n",
              "      <th></th>\n",
              "    </tr>\n",
              "  </thead>\n",
              "  <tbody>\n",
              "    <tr>\n",
              "      <th>tt0114369</th>\n",
              "      <td>Se7en</td>\n",
              "      <td>Detective Lt. William Somerset (Morgan Freeman...</td>\n",
              "    </tr>\n",
              "    <tr>\n",
              "      <th>tt0114369</th>\n",
              "      <td>Se7en</td>\n",
              "      <td>It is a rarity for a film to be completely uns...</td>\n",
              "    </tr>\n",
              "    <tr>\n",
              "      <th>tt0114369</th>\n",
              "      <td>Se7en</td>\n",
              "      <td>The movie, \"Se7en\", starring Brad Pitt, Morgan...</td>\n",
              "    </tr>\n",
              "    <tr>\n",
              "      <th>tt0114369</th>\n",
              "      <td>Se7en</td>\n",
              "      <td>After his calamitous experience working on his...</td>\n",
              "    </tr>\n",
              "    <tr>\n",
              "      <th>tt0114369</th>\n",
              "      <td>Se7en</td>\n",
              "      <td>From David Fincher, Se7en is a compelling and ...</td>\n",
              "    </tr>\n",
              "  </tbody>\n",
              "</table>\n",
              "</div>\n",
              "    <div class=\"colab-df-buttons\">\n",
              "\n",
              "  <div class=\"colab-df-container\">\n",
              "    <button class=\"colab-df-convert\" onclick=\"convertToInteractive('df-88cdfbb2-c852-4038-a79a-dee9796421bc')\"\n",
              "            title=\"Convert this dataframe to an interactive table.\"\n",
              "            style=\"display:none;\">\n",
              "\n",
              "  <svg xmlns=\"http://www.w3.org/2000/svg\" height=\"24px\" viewBox=\"0 -960 960 960\">\n",
              "    <path d=\"M120-120v-720h720v720H120Zm60-500h600v-160H180v160Zm220 220h160v-160H400v160Zm0 220h160v-160H400v160ZM180-400h160v-160H180v160Zm440 0h160v-160H620v160ZM180-180h160v-160H180v160Zm440 0h160v-160H620v160Z\"/>\n",
              "  </svg>\n",
              "    </button>\n",
              "\n",
              "  <style>\n",
              "    .colab-df-container {\n",
              "      display:flex;\n",
              "      gap: 12px;\n",
              "    }\n",
              "\n",
              "    .colab-df-convert {\n",
              "      background-color: #E8F0FE;\n",
              "      border: none;\n",
              "      border-radius: 50%;\n",
              "      cursor: pointer;\n",
              "      display: none;\n",
              "      fill: #1967D2;\n",
              "      height: 32px;\n",
              "      padding: 0 0 0 0;\n",
              "      width: 32px;\n",
              "    }\n",
              "\n",
              "    .colab-df-convert:hover {\n",
              "      background-color: #E2EBFA;\n",
              "      box-shadow: 0px 1px 2px rgba(60, 64, 67, 0.3), 0px 1px 3px 1px rgba(60, 64, 67, 0.15);\n",
              "      fill: #174EA6;\n",
              "    }\n",
              "\n",
              "    .colab-df-buttons div {\n",
              "      margin-bottom: 4px;\n",
              "    }\n",
              "\n",
              "    [theme=dark] .colab-df-convert {\n",
              "      background-color: #3B4455;\n",
              "      fill: #D2E3FC;\n",
              "    }\n",
              "\n",
              "    [theme=dark] .colab-df-convert:hover {\n",
              "      background-color: #434B5C;\n",
              "      box-shadow: 0px 1px 3px 1px rgba(0, 0, 0, 0.15);\n",
              "      filter: drop-shadow(0px 1px 2px rgba(0, 0, 0, 0.3));\n",
              "      fill: #FFFFFF;\n",
              "    }\n",
              "  </style>\n",
              "\n",
              "    <script>\n",
              "      const buttonEl =\n",
              "        document.querySelector('#df-88cdfbb2-c852-4038-a79a-dee9796421bc button.colab-df-convert');\n",
              "      buttonEl.style.display =\n",
              "        google.colab.kernel.accessAllowed ? 'block' : 'none';\n",
              "\n",
              "      async function convertToInteractive(key) {\n",
              "        const element = document.querySelector('#df-88cdfbb2-c852-4038-a79a-dee9796421bc');\n",
              "        const dataTable =\n",
              "          await google.colab.kernel.invokeFunction('convertToInteractive',\n",
              "                                                    [key], {});\n",
              "        if (!dataTable) return;\n",
              "\n",
              "        const docLinkHtml = 'Like what you see? Visit the ' +\n",
              "          '<a target=\"_blank\" href=https://colab.research.google.com/notebooks/data_table.ipynb>data table notebook</a>'\n",
              "          + ' to learn more about interactive tables.';\n",
              "        element.innerHTML = '';\n",
              "        dataTable['output_type'] = 'display_data';\n",
              "        await google.colab.output.renderOutput(dataTable, element);\n",
              "        const docLink = document.createElement('div');\n",
              "        docLink.innerHTML = docLinkHtml;\n",
              "        element.appendChild(docLink);\n",
              "      }\n",
              "    </script>\n",
              "  </div>\n",
              "\n",
              "\n",
              "<div id=\"df-f63be924-7702-46c8-8171-30749e40cb53\">\n",
              "  <button class=\"colab-df-quickchart\" onclick=\"quickchart('df-f63be924-7702-46c8-8171-30749e40cb53')\"\n",
              "            title=\"Suggest charts\"\n",
              "            style=\"display:none;\">\n",
              "\n",
              "<svg xmlns=\"http://www.w3.org/2000/svg\" height=\"24px\"viewBox=\"0 0 24 24\"\n",
              "     width=\"24px\">\n",
              "    <g>\n",
              "        <path d=\"M19 3H5c-1.1 0-2 .9-2 2v14c0 1.1.9 2 2 2h14c1.1 0 2-.9 2-2V5c0-1.1-.9-2-2-2zM9 17H7v-7h2v7zm4 0h-2V7h2v10zm4 0h-2v-4h2v4z\"/>\n",
              "    </g>\n",
              "</svg>\n",
              "  </button>\n",
              "\n",
              "<style>\n",
              "  .colab-df-quickchart {\n",
              "      --bg-color: #E8F0FE;\n",
              "      --fill-color: #1967D2;\n",
              "      --hover-bg-color: #E2EBFA;\n",
              "      --hover-fill-color: #174EA6;\n",
              "      --disabled-fill-color: #AAA;\n",
              "      --disabled-bg-color: #DDD;\n",
              "  }\n",
              "\n",
              "  [theme=dark] .colab-df-quickchart {\n",
              "      --bg-color: #3B4455;\n",
              "      --fill-color: #D2E3FC;\n",
              "      --hover-bg-color: #434B5C;\n",
              "      --hover-fill-color: #FFFFFF;\n",
              "      --disabled-bg-color: #3B4455;\n",
              "      --disabled-fill-color: #666;\n",
              "  }\n",
              "\n",
              "  .colab-df-quickchart {\n",
              "    background-color: var(--bg-color);\n",
              "    border: none;\n",
              "    border-radius: 50%;\n",
              "    cursor: pointer;\n",
              "    display: none;\n",
              "    fill: var(--fill-color);\n",
              "    height: 32px;\n",
              "    padding: 0;\n",
              "    width: 32px;\n",
              "  }\n",
              "\n",
              "  .colab-df-quickchart:hover {\n",
              "    background-color: var(--hover-bg-color);\n",
              "    box-shadow: 0 1px 2px rgba(60, 64, 67, 0.3), 0 1px 3px 1px rgba(60, 64, 67, 0.15);\n",
              "    fill: var(--button-hover-fill-color);\n",
              "  }\n",
              "\n",
              "  .colab-df-quickchart-complete:disabled,\n",
              "  .colab-df-quickchart-complete:disabled:hover {\n",
              "    background-color: var(--disabled-bg-color);\n",
              "    fill: var(--disabled-fill-color);\n",
              "    box-shadow: none;\n",
              "  }\n",
              "\n",
              "  .colab-df-spinner {\n",
              "    border: 2px solid var(--fill-color);\n",
              "    border-color: transparent;\n",
              "    border-bottom-color: var(--fill-color);\n",
              "    animation:\n",
              "      spin 1s steps(1) infinite;\n",
              "  }\n",
              "\n",
              "  @keyframes spin {\n",
              "    0% {\n",
              "      border-color: transparent;\n",
              "      border-bottom-color: var(--fill-color);\n",
              "      border-left-color: var(--fill-color);\n",
              "    }\n",
              "    20% {\n",
              "      border-color: transparent;\n",
              "      border-left-color: var(--fill-color);\n",
              "      border-top-color: var(--fill-color);\n",
              "    }\n",
              "    30% {\n",
              "      border-color: transparent;\n",
              "      border-left-color: var(--fill-color);\n",
              "      border-top-color: var(--fill-color);\n",
              "      border-right-color: var(--fill-color);\n",
              "    }\n",
              "    40% {\n",
              "      border-color: transparent;\n",
              "      border-right-color: var(--fill-color);\n",
              "      border-top-color: var(--fill-color);\n",
              "    }\n",
              "    60% {\n",
              "      border-color: transparent;\n",
              "      border-right-color: var(--fill-color);\n",
              "    }\n",
              "    80% {\n",
              "      border-color: transparent;\n",
              "      border-right-color: var(--fill-color);\n",
              "      border-bottom-color: var(--fill-color);\n",
              "    }\n",
              "    90% {\n",
              "      border-color: transparent;\n",
              "      border-bottom-color: var(--fill-color);\n",
              "    }\n",
              "  }\n",
              "</style>\n",
              "\n",
              "  <script>\n",
              "    async function quickchart(key) {\n",
              "      const quickchartButtonEl =\n",
              "        document.querySelector('#' + key + ' button');\n",
              "      quickchartButtonEl.disabled = true;  // To prevent multiple clicks.\n",
              "      quickchartButtonEl.classList.add('colab-df-spinner');\n",
              "      try {\n",
              "        const charts = await google.colab.kernel.invokeFunction(\n",
              "            'suggestCharts', [key], {});\n",
              "      } catch (error) {\n",
              "        console.error('Error during call to suggestCharts:', error);\n",
              "      }\n",
              "      quickchartButtonEl.classList.remove('colab-df-spinner');\n",
              "      quickchartButtonEl.classList.add('colab-df-quickchart-complete');\n",
              "    }\n",
              "    (() => {\n",
              "      let quickchartButtonEl =\n",
              "        document.querySelector('#df-f63be924-7702-46c8-8171-30749e40cb53 button');\n",
              "      quickchartButtonEl.style.display =\n",
              "        google.colab.kernel.accessAllowed ? 'block' : 'none';\n",
              "    })();\n",
              "  </script>\n",
              "</div>\n",
              "\n",
              "    </div>\n",
              "  </div>\n"
            ],
            "application/vnd.google.colaboratory.intrinsic+json": {
              "type": "dataframe",
              "variable_name": "reviews_df",
              "summary": "{\n  \"name\": \"reviews_df\",\n  \"rows\": 28693,\n  \"fields\": [\n    {\n      \"column\": \"id\",\n      \"properties\": {\n        \"dtype\": \"category\",\n        \"num_unique_values\": 1150,\n        \"samples\": [\n          \"tt0094812\",\n          \"tt0091763\",\n          \"tt0947798\"\n        ],\n        \"semantic_type\": \"\",\n        \"description\": \"\"\n      }\n    },\n    {\n      \"column\": \"name\",\n      \"properties\": {\n        \"dtype\": \"category\",\n        \"num_unique_values\": 1145,\n        \"samples\": [\n          \"Suicide Squad\",\n          \"Tigerland\",\n          \"The Machinist\"\n        ],\n        \"semantic_type\": \"\",\n        \"description\": \"\"\n      }\n    },\n    {\n      \"column\": \"review\",\n      \"properties\": {\n        \"dtype\": \"string\",\n        \"num_unique_values\": 28689,\n        \"samples\": [\n          \"Well first of, Bradley Coopers muscle-gain in this movie is amazing and it really is a good and moving performance on his part. This movie has both a love affair and the war drama you would expect from a movie about an American sniper, but neither really catches on. The part of the movie in between deployments doesn't really do anything for the story, and it really reduces the overall impression of this movie. It seems as though this part of the movie hasn't really received as big an effort as the parts when he is deployed in Iraq. The combat scenes are very convincing, they reminded me of Black Hawk Down, and you really can't put a finger on those parts. All in all this is a movie worth while seeing, and it will quite possibly demand an emotional reaction, but then it is soon forgotten. Maybe if i were American and had a sense of American patriotism, i would rate this movie a bit higher.\",\n          \"I guess this is a fictional retelling of actual events. The character of Frank (Denzel Washington) is the story of a man, who because of his own issues with the abuse of being a black man with few prospects, driven to become \\\"great.\\\" Unfortunately, his greatness is tied up in exporting pure heroin from Vietnam and selling it. He is a murderer, a liar, and every way a criminal. He is charming on the outside and deadly on the inside. There is no way that a thinking person could admire him. If his vendetta and his business were directed only at bad guys, we might think that it is OK. But he kills indiscriminately, many dying as innocent victims. Russell Crowe's prosecutor is determined and insightful. He is himself a loner (a role Crowe does well at in many films), but he must butt heads all the way along. He has committed a \\\"crime.\\\" He has found and returned thousands of dollars in drug money found on a case. He is seen as a bit of an idiot and hence not on of \\\"the guys.\\\" Everything plays out well. Two masterful actors doing what they do best. I think my most memorable scene is the one where they come upon the poppy fields in Vietnam where this stuff is being cooked and dried. It would be like going to SonyCorp or some big Asian business; but this is a factory used to make one of the most destructive substances. See this because it is a fascinating story and it is masterfully done.\",\n          \"Four Edinburgh friends Mark Renton (Ewan McGregor), Daniel \\\"Spud\\\" Murphy (Ewen Bremner), Simon \\\"Sick Boy\\\" Williamson (Jonny Lee Miller), and psychopath Francis Begbie (Robert Carlyle) are into the low life heroin addicted junkie world. Renton tries to quit with a couple of final rectal suppositories. He steals clean-cut friend Tommy MacKenzie (Kevin McKidd)'s sex tape with his girlfriend. He chases after Diane Coulston (Kelly Macdonald) from the club but he finds out that she's underage after sleeping with her. The guys go back to doing heroin. Even Tommy starts doing it after dumped by his girlfriend for losing the sex tape.Director Danny Boyle gives a flashy, densely-packed, dark and hilarious vision of the drug life. It is disturbing and funny, sometimes at the same time. It doesn't promote drug use despite some criticism to that fact. The grim and ugliness should dissuade people from using. It is a wild ride and something unique.\"\n        ],\n        \"semantic_type\": \"\",\n        \"description\": \"\"\n      }\n    }\n  ]\n}"
            }
          },
          "metadata": {},
          "execution_count": 67
        }
      ]
    },
    {
      "cell_type": "code",
      "source": [
        "reviews_df.to_csv('reviews.csv')"
      ],
      "metadata": {
        "id": "UdEHukCUU1JN"
      },
      "execution_count": 70,
      "outputs": []
    }
  ]
}