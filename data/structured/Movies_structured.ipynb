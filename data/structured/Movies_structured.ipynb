{
 "cells": [
  {
   "cell_type": "markdown",
   "id": "4a0d8bed-2e32-45a6-b4c7-2ab558bd8807",
   "metadata": {},
   "source": [
    "# **P0. Recogida datos estructurados. Movies**"
   ]
  },
  {
   "cell_type": "markdown",
   "id": "ccc5b688-535b-4322-b6be-d113b2e81222",
   "metadata": {},
   "source": [
    "Fuentes de datos:\n",
    "- Movies: https://media.githubusercontent.com/media/melodiromero/movies/refs/heads/main/dataset/movies_limpio.csv"
   ]
  },
  {
   "cell_type": "markdown",
   "id": "570319b1-d498-4527-a9bb-ee1ef46f04b1",
   "metadata": {
    "tags": []
   },
   "source": [
    "## **Movies**"
   ]
  },
  {
   "cell_type": "code",
   "execution_count": 1,
   "id": "a7a1dbd5-9929-4d92-893a-38c28e30d46f",
   "metadata": {},
   "outputs": [],
   "source": [
    "import pandas as pd\n",
    "import json\n",
    "import ast"
   ]
  },
  {
   "cell_type": "code",
   "execution_count": 2,
   "id": "d81dcd7f-3987-4cc6-8cbd-2ea48347b063",
   "metadata": {},
   "outputs": [],
   "source": [
    "url = \"https://media.githubusercontent.com/media/melodiromero/movies/refs/heads/main/dataset/movies_limpio.csv\"\n",
    "df = pd.read_csv(url)"
   ]
  },
  {
   "cell_type": "code",
   "execution_count": 3,
   "id": "fb0ac74a-bed4-4708-bf55-ab1a205d3350",
   "metadata": {},
   "outputs": [
    {
     "name": "stdout",
     "output_type": "stream",
     "text": [
      "<class 'pandas.core.frame.DataFrame'>\n",
      "RangeIndex: 45376 entries, 0 to 45375\n",
      "Data columns (total 20 columns):\n",
      " #   Column             Non-Null Count  Dtype  \n",
      "---  ------             --------------  -----  \n",
      " 0   budget             45376 non-null  float64\n",
      " 1   genres             45376 non-null  object \n",
      " 2   id                 45376 non-null  int64  \n",
      " 3   original_language  45365 non-null  object \n",
      " 4   overview           44435 non-null  object \n",
      " 5   popularity         45376 non-null  float64\n",
      " 6   release_date       45376 non-null  object \n",
      " 7   revenue            45376 non-null  float64\n",
      " 8   runtime            45130 non-null  float64\n",
      " 9   spoken_languages   45376 non-null  object \n",
      " 10  status             45296 non-null  object \n",
      " 11  tagline            20398 non-null  object \n",
      " 12  title              45376 non-null  object \n",
      " 13  vote_average       45376 non-null  float64\n",
      " 14  vote_count         45376 non-null  float64\n",
      " 15  franquicia         4488 non-null   object \n",
      " 16  productoras        33096 non-null  object \n",
      " 17  paises             39160 non-null  object \n",
      " 18  release_year       45376 non-null  int64  \n",
      " 19  retorno            45376 non-null  float64\n",
      "dtypes: float64(7), int64(2), object(11)\n",
      "memory usage: 6.9+ MB\n"
     ]
    }
   ],
   "source": [
    "df.info()"
   ]
  },
  {
   "cell_type": "markdown",
   "id": "927ef660-6462-47bb-8327-fc68ce766179",
   "metadata": {
    "tags": []
   },
   "source": [
    "### Preprocesado\n",
    "Se seleccionan los atributos mas importantes del dataframe. Además, se transforman los tipos de los atributos para que puedan ser insertados en una tabla de postgresql"
   ]
  },
  {
   "cell_type": "code",
   "execution_count": 4,
   "id": "8123fdc6-298c-4c4f-b7e5-5b2af78690ec",
   "metadata": {},
   "outputs": [
    {
     "data": {
      "text/html": [
       "<div>\n",
       "<style scoped>\n",
       "    .dataframe tbody tr th:only-of-type {\n",
       "        vertical-align: middle;\n",
       "    }\n",
       "\n",
       "    .dataframe tbody tr th {\n",
       "        vertical-align: top;\n",
       "    }\n",
       "\n",
       "    .dataframe thead th {\n",
       "        text-align: right;\n",
       "    }\n",
       "</style>\n",
       "<table border=\"1\" class=\"dataframe\">\n",
       "  <thead>\n",
       "    <tr style=\"text-align: right;\">\n",
       "      <th></th>\n",
       "      <th>budget</th>\n",
       "      <th>genres</th>\n",
       "      <th>id</th>\n",
       "      <th>original_language</th>\n",
       "      <th>overview</th>\n",
       "      <th>popularity</th>\n",
       "      <th>release_date</th>\n",
       "      <th>revenue</th>\n",
       "      <th>runtime</th>\n",
       "      <th>spoken_languages</th>\n",
       "      <th>status</th>\n",
       "      <th>tagline</th>\n",
       "      <th>title</th>\n",
       "      <th>vote_average</th>\n",
       "      <th>vote_count</th>\n",
       "      <th>franquicia</th>\n",
       "      <th>productoras</th>\n",
       "      <th>paises</th>\n",
       "      <th>release_year</th>\n",
       "      <th>retorno</th>\n",
       "    </tr>\n",
       "  </thead>\n",
       "  <tbody>\n",
       "    <tr>\n",
       "      <th>0</th>\n",
       "      <td>30000000.0</td>\n",
       "      <td>[{'id': 16, 'name': 'Animation'}, {'id': 35, '...</td>\n",
       "      <td>862</td>\n",
       "      <td>en</td>\n",
       "      <td>Led by Woody, Andy's toys live happily in his ...</td>\n",
       "      <td>21.946943</td>\n",
       "      <td>1995-10-30</td>\n",
       "      <td>373554033.0</td>\n",
       "      <td>81.0</td>\n",
       "      <td>[{'iso_639_1': 'en', 'name': 'English'}]</td>\n",
       "      <td>Released</td>\n",
       "      <td>NaN</td>\n",
       "      <td>Toy Story</td>\n",
       "      <td>7.7</td>\n",
       "      <td>5415.0</td>\n",
       "      <td>Toy Story Collection</td>\n",
       "      <td>Pixar Animation Studios</td>\n",
       "      <td>United States of America</td>\n",
       "      <td>1995</td>\n",
       "      <td>12.451801</td>\n",
       "    </tr>\n",
       "    <tr>\n",
       "      <th>1</th>\n",
       "      <td>65000000.0</td>\n",
       "      <td>[{'id': 12, 'name': 'Adventure'}, {'id': 14, '...</td>\n",
       "      <td>8844</td>\n",
       "      <td>en</td>\n",
       "      <td>When siblings Judy and Peter discover an encha...</td>\n",
       "      <td>17.015539</td>\n",
       "      <td>1995-12-15</td>\n",
       "      <td>262797249.0</td>\n",
       "      <td>104.0</td>\n",
       "      <td>[{'iso_639_1': 'en', 'name': 'English'}, {'iso...</td>\n",
       "      <td>Released</td>\n",
       "      <td>Roll the dice and unleash the excitement!</td>\n",
       "      <td>Jumanji</td>\n",
       "      <td>6.9</td>\n",
       "      <td>2413.0</td>\n",
       "      <td>NaN</td>\n",
       "      <td>TriStar Pictures, Teitler Film, Interscope Com...</td>\n",
       "      <td>United States of America</td>\n",
       "      <td>1995</td>\n",
       "      <td>4.043035</td>\n",
       "    </tr>\n",
       "    <tr>\n",
       "      <th>2</th>\n",
       "      <td>0.0</td>\n",
       "      <td>[{'id': 10749, 'name': 'Romance'}, {'id': 35, ...</td>\n",
       "      <td>15602</td>\n",
       "      <td>en</td>\n",
       "      <td>A family wedding reignites the ancient feud be...</td>\n",
       "      <td>11.712900</td>\n",
       "      <td>1995-12-22</td>\n",
       "      <td>0.0</td>\n",
       "      <td>101.0</td>\n",
       "      <td>[{'iso_639_1': 'en', 'name': 'English'}]</td>\n",
       "      <td>Released</td>\n",
       "      <td>Still Yelling. Still Fighting. Still Ready for...</td>\n",
       "      <td>Grumpier Old Men</td>\n",
       "      <td>6.5</td>\n",
       "      <td>92.0</td>\n",
       "      <td>Grumpy Old Men Collection</td>\n",
       "      <td>Warner Bros., Lancaster Gate</td>\n",
       "      <td>United States of America</td>\n",
       "      <td>1995</td>\n",
       "      <td>0.000000</td>\n",
       "    </tr>\n",
       "    <tr>\n",
       "      <th>3</th>\n",
       "      <td>16000000.0</td>\n",
       "      <td>[{'id': 35, 'name': 'Comedy'}, {'id': 18, 'nam...</td>\n",
       "      <td>31357</td>\n",
       "      <td>en</td>\n",
       "      <td>Cheated on, mistreated and stepped on, the wom...</td>\n",
       "      <td>3.859495</td>\n",
       "      <td>1995-12-22</td>\n",
       "      <td>81452156.0</td>\n",
       "      <td>127.0</td>\n",
       "      <td>[{'iso_639_1': 'en', 'name': 'English'}]</td>\n",
       "      <td>Released</td>\n",
       "      <td>Friends are the people who let you be yourself...</td>\n",
       "      <td>Waiting to Exhale</td>\n",
       "      <td>6.1</td>\n",
       "      <td>34.0</td>\n",
       "      <td>NaN</td>\n",
       "      <td>Twentieth Century Fox Film Corporation</td>\n",
       "      <td>United States of America</td>\n",
       "      <td>1995</td>\n",
       "      <td>5.090760</td>\n",
       "    </tr>\n",
       "    <tr>\n",
       "      <th>4</th>\n",
       "      <td>0.0</td>\n",
       "      <td>[{'id': 35, 'name': 'Comedy'}]</td>\n",
       "      <td>11862</td>\n",
       "      <td>en</td>\n",
       "      <td>Just when George Banks has recovered from his ...</td>\n",
       "      <td>8.387519</td>\n",
       "      <td>1995-02-10</td>\n",
       "      <td>76578911.0</td>\n",
       "      <td>106.0</td>\n",
       "      <td>[{'iso_639_1': 'en', 'name': 'English'}]</td>\n",
       "      <td>Released</td>\n",
       "      <td>Just When His World Is Back To Normal... He's ...</td>\n",
       "      <td>Father of the Bride Part II</td>\n",
       "      <td>5.7</td>\n",
       "      <td>173.0</td>\n",
       "      <td>Father of the Bride Collection</td>\n",
       "      <td>Sandollar Productions, Touchstone Pictures</td>\n",
       "      <td>United States of America</td>\n",
       "      <td>1995</td>\n",
       "      <td>0.000000</td>\n",
       "    </tr>\n",
       "  </tbody>\n",
       "</table>\n",
       "</div>"
      ],
      "text/plain": [
       "       budget                                             genres     id  \\\n",
       "0  30000000.0  [{'id': 16, 'name': 'Animation'}, {'id': 35, '...    862   \n",
       "1  65000000.0  [{'id': 12, 'name': 'Adventure'}, {'id': 14, '...   8844   \n",
       "2         0.0  [{'id': 10749, 'name': 'Romance'}, {'id': 35, ...  15602   \n",
       "3  16000000.0  [{'id': 35, 'name': 'Comedy'}, {'id': 18, 'nam...  31357   \n",
       "4         0.0                     [{'id': 35, 'name': 'Comedy'}]  11862   \n",
       "\n",
       "  original_language                                           overview  \\\n",
       "0                en  Led by Woody, Andy's toys live happily in his ...   \n",
       "1                en  When siblings Judy and Peter discover an encha...   \n",
       "2                en  A family wedding reignites the ancient feud be...   \n",
       "3                en  Cheated on, mistreated and stepped on, the wom...   \n",
       "4                en  Just when George Banks has recovered from his ...   \n",
       "\n",
       "   popularity release_date      revenue  runtime  \\\n",
       "0   21.946943   1995-10-30  373554033.0     81.0   \n",
       "1   17.015539   1995-12-15  262797249.0    104.0   \n",
       "2   11.712900   1995-12-22          0.0    101.0   \n",
       "3    3.859495   1995-12-22   81452156.0    127.0   \n",
       "4    8.387519   1995-02-10   76578911.0    106.0   \n",
       "\n",
       "                                    spoken_languages    status  \\\n",
       "0           [{'iso_639_1': 'en', 'name': 'English'}]  Released   \n",
       "1  [{'iso_639_1': 'en', 'name': 'English'}, {'iso...  Released   \n",
       "2           [{'iso_639_1': 'en', 'name': 'English'}]  Released   \n",
       "3           [{'iso_639_1': 'en', 'name': 'English'}]  Released   \n",
       "4           [{'iso_639_1': 'en', 'name': 'English'}]  Released   \n",
       "\n",
       "                                             tagline  \\\n",
       "0                                                NaN   \n",
       "1          Roll the dice and unleash the excitement!   \n",
       "2  Still Yelling. Still Fighting. Still Ready for...   \n",
       "3  Friends are the people who let you be yourself...   \n",
       "4  Just When His World Is Back To Normal... He's ...   \n",
       "\n",
       "                         title  vote_average  vote_count  \\\n",
       "0                    Toy Story           7.7      5415.0   \n",
       "1                      Jumanji           6.9      2413.0   \n",
       "2             Grumpier Old Men           6.5        92.0   \n",
       "3            Waiting to Exhale           6.1        34.0   \n",
       "4  Father of the Bride Part II           5.7       173.0   \n",
       "\n",
       "                       franquicia  \\\n",
       "0            Toy Story Collection   \n",
       "1                             NaN   \n",
       "2       Grumpy Old Men Collection   \n",
       "3                             NaN   \n",
       "4  Father of the Bride Collection   \n",
       "\n",
       "                                         productoras  \\\n",
       "0                            Pixar Animation Studios   \n",
       "1  TriStar Pictures, Teitler Film, Interscope Com...   \n",
       "2                       Warner Bros., Lancaster Gate   \n",
       "3             Twentieth Century Fox Film Corporation   \n",
       "4         Sandollar Productions, Touchstone Pictures   \n",
       "\n",
       "                     paises  release_year    retorno  \n",
       "0  United States of America          1995  12.451801  \n",
       "1  United States of America          1995   4.043035  \n",
       "2  United States of America          1995   0.000000  \n",
       "3  United States of America          1995   5.090760  \n",
       "4  United States of America          1995   0.000000  "
      ]
     },
     "execution_count": 4,
     "metadata": {},
     "output_type": "execute_result"
    }
   ],
   "source": [
    "df.head(5)"
   ]
  },
  {
   "cell_type": "markdown",
   "id": "dda39cf3-ce62-4ab3-87a8-02756dd6b819",
   "metadata": {},
   "source": [
    "## Preprocesado"
   ]
  },
  {
   "cell_type": "code",
   "execution_count": 5,
   "id": "ea9e7db6-2d00-405e-933f-819d6b7434e5",
   "metadata": {},
   "outputs": [
    {
     "data": {
      "text/plain": [
       "budget                   0\n",
       "genres                   0\n",
       "id                       0\n",
       "original_language       11\n",
       "overview               941\n",
       "popularity               0\n",
       "release_date             0\n",
       "revenue                  0\n",
       "runtime                246\n",
       "spoken_languages         0\n",
       "status                  80\n",
       "tagline              24978\n",
       "title                    0\n",
       "vote_average             0\n",
       "vote_count               0\n",
       "franquicia           40888\n",
       "productoras          12280\n",
       "paises                6216\n",
       "release_year             0\n",
       "retorno                  0\n",
       "dtype: int64"
      ]
     },
     "execution_count": 5,
     "metadata": {},
     "output_type": "execute_result"
    }
   ],
   "source": [
    "# Valores nulos de los atributos\n",
    "df.isnull().sum()"
   ]
  },
  {
   "cell_type": "code",
   "execution_count": 6,
   "id": "d6f93c93-dbcc-42bd-bab4-393d22271f94",
   "metadata": {},
   "outputs": [],
   "source": [
    "df.drop(['tagline', 'paises'], axis = 1, inplace = True)"
   ]
  },
  {
   "cell_type": "code",
   "execution_count": 7,
   "id": "e68d3da0-2088-4f52-8c31-837ad109963d",
   "metadata": {},
   "outputs": [],
   "source": [
    "df['genres'] = df['genres'].apply(lambda x: ast.literal_eval(x) if isinstance(x, str) else x)"
   ]
  },
  {
   "cell_type": "code",
   "execution_count": 17,
   "id": "7896a399-bef1-48ff-9da7-000e186df8be",
   "metadata": {},
   "outputs": [
    {
     "name": "stdout",
     "output_type": "stream",
     "text": [
      "DataFrame original:\n",
      "45376\n",
      "\n",
      "DataFrame con filas únicas (sin duplicados en 'id'):\n",
      "45346\n"
     ]
    }
   ],
   "source": [
    "# Mostrar el DataFrame original\n",
    "print(\"DataFrame original:\")\n",
    "print(len(df))\n",
    "\n",
    "# Eliminar duplicados basándose en la columna 'id'\n",
    "df.drop_duplicates(subset='id', keep='first', inplace = True)\n",
    "\n",
    "# Mostrar el DataFrame resultante con filas únicas\n",
    "print(\"\\nDataFrame con filas únicas (sin duplicados en 'id'):\")\n",
    "print(len(df))"
   ]
  },
  {
   "cell_type": "markdown",
   "id": "3598da70-0b77-4eaf-980d-f28560cb6f2d",
   "metadata": {},
   "source": [
    "## **Inserción en Postgres**"
   ]
  },
  {
   "cell_type": "code",
   "execution_count": 8,
   "id": "4a32ef52-5dc8-4141-af4a-f2922b445594",
   "metadata": {},
   "outputs": [],
   "source": [
    "# df = df[:20]"
   ]
  },
  {
   "cell_type": "code",
   "execution_count": 19,
   "id": "5673b0da-1268-4908-b48b-5bfde40b534b",
   "metadata": {},
   "outputs": [
    {
     "name": "stdout",
     "output_type": "stream",
     "text": [
      "Conexión exitosa a PostgreSQL\n",
      "Tablas creadas (si no existían).\n",
      "Géneros insertados: 20\n",
      "Películas insertadas: 45346\n",
      "Relaciones de película-género insertadas: 90957\n"
     ]
    }
   ],
   "source": [
    "import psycopg2\n",
    "import pandas as pd\n",
    "\n",
    "\n",
    "try:\n",
    "    conn_postgre = psycopg2.connect(\n",
    "        dbname='postgres',\n",
    "        user='hive',\n",
    "        password='password',\n",
    "        host='hive4-postgres',\n",
    "        port='5432'\n",
    "    )\n",
    "    print(\"Conexión exitosa a PostgreSQL\")\n",
    "    \n",
    "    cur = conn_postgre.cursor()\n",
    "    \n",
    "    ### Creacion de 3 tablas, peliculas, generos y una tabla intermedia que relaciona ambas.\n",
    "    cur.execute(\"\"\"\n",
    "    CREATE TABLE IF NOT EXISTS movies (\n",
    "        movie_id INT PRIMARY KEY,\n",
    "        budget FLOAT,\n",
    "        original_language VARCHAR(10),\n",
    "        overview TEXT,\n",
    "        popularity FLOAT,\n",
    "        release_date DATE,\n",
    "        revenue FLOAT,\n",
    "        runtime FLOAT,\n",
    "        title VARCHAR(255),\n",
    "        vote_average FLOAT,\n",
    "        vote_count INT,\n",
    "        release_year INT,\n",
    "        retorno FLOAT\n",
    "    );\n",
    "    \"\"\")\n",
    "    \n",
    "    cur.execute(\"\"\"\n",
    "    CREATE TABLE IF NOT EXISTS genres (\n",
    "        genre_id INT PRIMARY KEY,\n",
    "        name VARCHAR(100) UNIQUE\n",
    "    );\n",
    "    \"\"\")\n",
    "    \n",
    "    cur.execute(\"\"\"\n",
    "    CREATE TABLE IF NOT EXISTS movie_genres (\n",
    "        movie_id INT REFERENCES movies(movie_id) ON DELETE CASCADE,\n",
    "        genre_id INT REFERENCES genres(genre_id) ON DELETE CASCADE,\n",
    "        PRIMARY KEY (movie_id, genre_id)\n",
    "    );\n",
    "    \"\"\")\n",
    "    \n",
    "    print(\"Tablas creadas (si no existían).\")\n",
    "    \n",
    "    # Extraccion géneros únicos\n",
    "    genres_set = {g['id']: g['name'] for genres in df['genres'] for g in genres}\n",
    "    genre_rows = [(genre_id, name) for genre_id, name in genres_set.items()]\n",
    "\n",
    "    # Insert géneros\n",
    "    genre_insert_query = \"\"\"\n",
    "        INSERT INTO genres (genre_id, name) VALUES (%s, %s)\n",
    "        ON CONFLICT (genre_id) DO NOTHING;\n",
    "    \"\"\"\n",
    "    cur.executemany(genre_insert_query, genre_rows)\n",
    "    conn_postgre.commit()\n",
    "    print(f\"Géneros insertados: {len(genre_rows)}\")\n",
    "    \n",
    "    # películas y relaciones en movie_genres\n",
    "    movie_rows = [\n",
    "        (row['id'], row['budget'], row['original_language'], row['overview'],\n",
    "         row['popularity'], row['release_date'], row['revenue'], row['runtime'],\n",
    "         row['title'], row['vote_average'], row['vote_count'], row['release_year'], row['retorno'])\n",
    "        for _, row in df.iterrows()\n",
    "    ]\n",
    "    movie_insert_query = \"\"\"\n",
    "        INSERT INTO movies (movie_id, budget, original_language, overview, popularity, \n",
    "                            release_date, revenue, runtime, title, vote_average, \n",
    "                            vote_count, release_year, retorno)\n",
    "        VALUES (%s, %s, %s, %s, %s, %s, %s, %s, %s, %s, %s, %s, %s)\n",
    "    \"\"\"\n",
    "    cur.executemany(movie_insert_query, movie_rows)\n",
    "    conn_postgre.commit()\n",
    "    print(f\"Películas insertadas: {len(movie_rows)}\")\n",
    "\n",
    "    # Relaciones en movie_genres\n",
    "    movie_genre_rows = [\n",
    "        (row['id'], genre['id']) for _, row in df.iterrows() for genre in row['genres']\n",
    "    ]\n",
    "    movie_genre_insert_query = \"\"\"\n",
    "        INSERT INTO movie_genres (movie_id, genre_id) VALUES (%s, %s)\n",
    "    \"\"\"\n",
    "    cur.executemany(movie_genre_insert_query, movie_genre_rows)\n",
    "    conn_postgre.commit()\n",
    "    print(f\"Relaciones de película-género insertadas: {len(movie_genre_rows)}\")\n",
    "    \n",
    "finally:\n",
    "    if 'cur' in locals():\n",
    "        cur.close()\n",
    "    if 'conn_postgre' in locals():\n",
    "        conn_postgre.close()"
   ]
  },
  {
   "cell_type": "code",
   "execution_count": 20,
   "id": "eb8cec85-d1b5-47f1-b947-a6f07077592f",
   "metadata": {},
   "outputs": [
    {
     "name": "stdout",
     "output_type": "stream",
     "text": [
      "Datos en movies: [(862, 30000000.0, 'en', \"Led by Woody, Andy's toys live happily in his room until Andy's birthday brings Buzz Lightyear onto the scene. Afraid of losing his place in Andy's heart, Woody plots against Buzz. But when circumstances separate Buzz and Woody from their owner, the duo eventually learns to put aside their differences.\", 21.946943, datetime.date(1995, 10, 30), 373554033.0, 81.0, 'Toy Story', 7.7, 5415, 1995, 12.4518011), (8844, 65000000.0, 'en', \"When siblings Judy and Peter discover an enchanted board game that opens the door to a magical world, they unwittingly invite Alan -- an adult who's been trapped inside the game for 26 years -- into their living room. Alan's only hope for freedom is to finish the game, which proves risky as all three find themselves running from giant rhinoceroses, evil monkeys and other terrifying creatures.\", 17.015539, datetime.date(1995, 12, 15), 262797249.0, 104.0, 'Jumanji', 6.9, 2413, 1995, 4.0430346), (15602, 0.0, 'en', \"A family wedding reignites the ancient feud between next-door neighbors and fishing buddies John and Max. Meanwhile, a sultry Italian divorcée opens a restaurant at the local bait shop, alarming the locals who worry she'll scare the fish away. But she's less interested in seafood than she is in cooking up a hot time with Max.\", 11.7129, datetime.date(1995, 12, 22), 0.0, 101.0, 'Grumpier Old Men', 6.5, 92, 1995, 0.0)]\n"
     ]
    }
   ],
   "source": [
    "### Consulta para devolver 3 peliculas\n",
    "\n",
    "conn_postgre = psycopg2.connect(\n",
    "        dbname='postgres',\n",
    "        user='hive',\n",
    "        password='password',\n",
    "        host='hive4-postgres',\n",
    "        port='5432'\n",
    "    )\n",
    "\n",
    "cur = conn_postgre.cursor()\n",
    "    \n",
    "    \n",
    "cur.execute(\"SELECT * FROM movies LIMIT 3;\")\n",
    "rows = cur.fetchall()\n",
    "print(\"Datos en movies:\", rows)\n",
    "\n",
    "cur.close()\n",
    "conn_postgre.close()"
   ]
  },
  {
   "cell_type": "code",
   "execution_count": 18,
   "id": "bf13e0eb-8341-4816-bb80-147f0e113233",
   "metadata": {},
   "outputs": [
    {
     "name": "stdout",
     "output_type": "stream",
     "text": [
      "Conexión exitosa a PostgreSQL\n",
      "Tablas borradas exitosamente.\n"
     ]
    }
   ],
   "source": [
    "#################################################\n",
    "##### PARA BORRAR LAS TABLAS CREADAS ARRIBA #####\n",
    "#################################################\n",
    "\"\"\"import psycopg2\n",
    "\n",
    "try:\n",
    "    conn_postgre = psycopg2.connect(\n",
    "        dbname='postgres',\n",
    "        user='hive',\n",
    "        password='password',\n",
    "        host='hive4-postgres',\n",
    "        port='5432'\n",
    "    )\n",
    "    print(\"Conexión exitosa a PostgreSQL\")\n",
    "    \n",
    "    cur = conn_postgre.cursor()\n",
    "    \n",
    "    cur.execute(\"DROP TABLE IF EXISTS movie_genres;\")\n",
    "    cur.execute(\"DROP TABLE IF EXISTS movies;\")\n",
    "    cur.execute(\"DROP TABLE IF EXISTS genres;\")\n",
    "    \n",
    "    conn_postgre.commit()\n",
    "    print(\"Tablas borradas exitosamente.\")\n",
    "\n",
    "finally:\n",
    "    if 'cur' in locals():\n",
    "        cur.close()\n",
    "    if 'conn_postgre' in locals():\n",
    "        conn_postgre.close()\"\"\""
   ]
  },
  {
   "cell_type": "code",
   "execution_count": 22,
   "id": "4af22102-7ace-4aa4-bd34-95197f4d0a66",
   "metadata": {
    "tags": []
   },
   "outputs": [],
   "source": [
    "df[:100].to_csv('./movies_100.csv', index=True)"
   ]
  }
 ],
 "metadata": {
  "kernelspec": {
   "display_name": "Python 3 (ipykernel)",
   "language": "python",
   "name": "python3"
  },
  "language_info": {
   "codemirror_mode": {
    "name": "ipython",
    "version": 3
   },
   "file_extension": ".py",
   "mimetype": "text/x-python",
   "name": "python",
   "nbconvert_exporter": "python",
   "pygments_lexer": "ipython3",
   "version": "3.8.13"
  }
 },
 "nbformat": 4,
 "nbformat_minor": 5
}
