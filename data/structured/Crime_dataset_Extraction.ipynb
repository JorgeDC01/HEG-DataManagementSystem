{
 "cells": [
  {
   "cell_type": "markdown",
   "id": "4a0d8bed-2e32-45a6-b4c7-2ab558bd8807",
   "metadata": {},
   "source": [
    "# **P0. Recogida datos estructurados. Crimes & Arrests | LA**"
   ]
  },
  {
   "cell_type": "markdown",
   "id": "ccc5b688-535b-4322-b6be-d113b2e81222",
   "metadata": {},
   "source": [
    "Fuentes de datos:\n",
    "- Crimes: https://data.lacity.org/Public-Safety/Crime-Data-from-2020-to-Present/2nrs-mtv8/about_data\n",
    "- Arrests: https://data.lacity.org/Public-Safety/Arrest-Data-from-2020-to-Present/amvf-fr72/about_data"
   ]
  },
  {
   "cell_type": "markdown",
   "id": "570319b1-d498-4527-a9bb-ee1ef46f04b1",
   "metadata": {
    "jp-MarkdownHeadingCollapsed": true,
    "tags": []
   },
   "source": [
    "## **Crime LA 2020 - present. csv**"
   ]
  },
  {
   "cell_type": "code",
   "execution_count": 14,
   "id": "a7a1dbd5-9929-4d92-893a-38c28e30d46f",
   "metadata": {},
   "outputs": [],
   "source": [
    "import pandas as pd"
   ]
  },
  {
   "cell_type": "code",
   "execution_count": 15,
   "id": "d81dcd7f-3987-4cc6-8cbd-2ea48347b063",
   "metadata": {},
   "outputs": [],
   "source": [
    "df = pd.read_csv(\"./Crime_Data_from_2020_to_Present.csv\")"
   ]
  },
  {
   "cell_type": "code",
   "execution_count": 16,
   "id": "fb0ac74a-bed4-4708-bf55-ab1a205d3350",
   "metadata": {},
   "outputs": [
    {
     "name": "stdout",
     "output_type": "stream",
     "text": [
      "<class 'pandas.core.frame.DataFrame'>\n",
      "RangeIndex: 986500 entries, 0 to 986499\n",
      "Data columns (total 28 columns):\n",
      " #   Column          Non-Null Count   Dtype  \n",
      "---  ------          --------------   -----  \n",
      " 0   DR_NO           986500 non-null  int64  \n",
      " 1   Date Rptd       986500 non-null  object \n",
      " 2   DATE OCC        986500 non-null  object \n",
      " 3   TIME OCC        986500 non-null  int64  \n",
      " 4   AREA            986500 non-null  int64  \n",
      " 5   AREA NAME       986500 non-null  object \n",
      " 6   Rpt Dist No     986500 non-null  int64  \n",
      " 7   Part 1-2        986500 non-null  int64  \n",
      " 8   Crm Cd          986500 non-null  int64  \n",
      " 9   Crm Cd Desc     986500 non-null  object \n",
      " 10  Mocodes         840065 non-null  object \n",
      " 11  Vict Age        986500 non-null  int64  \n",
      " 12  Vict Sex        846925 non-null  object \n",
      " 13  Vict Descent    846914 non-null  object \n",
      " 14  Premis Cd       986486 non-null  float64\n",
      " 15  Premis Desc     985915 non-null  object \n",
      " 16  Weapon Used Cd  326368 non-null  float64\n",
      " 17  Weapon Desc     326368 non-null  object \n",
      " 18  Status          986499 non-null  object \n",
      " 19  Status Desc     986500 non-null  object \n",
      " 20  Crm Cd 1        986489 non-null  float64\n",
      " 21  Crm Cd 2        68912 non-null   float64\n",
      " 22  Crm Cd 3        2310 non-null    float64\n",
      " 23  Crm Cd 4        64 non-null      float64\n",
      " 24  LOCATION        986500 non-null  object \n",
      " 25  Cross Street    152270 non-null  object \n",
      " 26  LAT             986500 non-null  float64\n",
      " 27  LON             986500 non-null  float64\n",
      "dtypes: float64(8), int64(7), object(13)\n",
      "memory usage: 210.7+ MB\n"
     ]
    }
   ],
   "source": [
    "df.info()"
   ]
  },
  {
   "cell_type": "markdown",
   "id": "927ef660-6462-47bb-8327-fc68ce766179",
   "metadata": {
    "tags": []
   },
   "source": [
    "### Preprocesado\n",
    "Se seleccionan los atributos mas importantes del dataframe. Además, se transforman los tipos de los atributos para que puedan ser insertados en una tabla de postgresql"
   ]
  },
  {
   "cell_type": "code",
   "execution_count": 17,
   "id": "844eec6d-29cb-4cf0-870b-181ce1d15db7",
   "metadata": {},
   "outputs": [],
   "source": [
    "# Seleccion de las columnas\n",
    "df = df[['DR_NO','DATE OCC','TIME OCC','AREA','AREA NAME','Crm Cd','Crm Cd Desc','Vict Age', 'Vict Sex','LOCATION','LAT','LON']]"
   ]
  },
  {
   "cell_type": "code",
   "execution_count": 18,
   "id": "8123fdc6-298c-4c4f-b7e5-5b2af78690ec",
   "metadata": {},
   "outputs": [
    {
     "data": {
      "text/html": [
       "<div>\n",
       "<style scoped>\n",
       "    .dataframe tbody tr th:only-of-type {\n",
       "        vertical-align: middle;\n",
       "    }\n",
       "\n",
       "    .dataframe tbody tr th {\n",
       "        vertical-align: top;\n",
       "    }\n",
       "\n",
       "    .dataframe thead th {\n",
       "        text-align: right;\n",
       "    }\n",
       "</style>\n",
       "<table border=\"1\" class=\"dataframe\">\n",
       "  <thead>\n",
       "    <tr style=\"text-align: right;\">\n",
       "      <th></th>\n",
       "      <th>DR_NO</th>\n",
       "      <th>DATE OCC</th>\n",
       "      <th>TIME OCC</th>\n",
       "      <th>AREA</th>\n",
       "      <th>AREA NAME</th>\n",
       "      <th>Crm Cd</th>\n",
       "      <th>Crm Cd Desc</th>\n",
       "      <th>Vict Age</th>\n",
       "      <th>Vict Sex</th>\n",
       "      <th>LOCATION</th>\n",
       "      <th>LAT</th>\n",
       "      <th>LON</th>\n",
       "    </tr>\n",
       "  </thead>\n",
       "  <tbody>\n",
       "    <tr>\n",
       "      <th>0</th>\n",
       "      <td>190326475</td>\n",
       "      <td>03/01/2020 12:00:00 AM</td>\n",
       "      <td>2130</td>\n",
       "      <td>7</td>\n",
       "      <td>Wilshire</td>\n",
       "      <td>510</td>\n",
       "      <td>VEHICLE - STOLEN</td>\n",
       "      <td>0</td>\n",
       "      <td>M</td>\n",
       "      <td>1900 S  LONGWOOD                     AV</td>\n",
       "      <td>34.0375</td>\n",
       "      <td>-118.3506</td>\n",
       "    </tr>\n",
       "    <tr>\n",
       "      <th>1</th>\n",
       "      <td>200106753</td>\n",
       "      <td>02/08/2020 12:00:00 AM</td>\n",
       "      <td>1800</td>\n",
       "      <td>1</td>\n",
       "      <td>Central</td>\n",
       "      <td>330</td>\n",
       "      <td>BURGLARY FROM VEHICLE</td>\n",
       "      <td>47</td>\n",
       "      <td>M</td>\n",
       "      <td>1000 S  FLOWER                       ST</td>\n",
       "      <td>34.0444</td>\n",
       "      <td>-118.2628</td>\n",
       "    </tr>\n",
       "    <tr>\n",
       "      <th>2</th>\n",
       "      <td>200320258</td>\n",
       "      <td>11/04/2020 12:00:00 AM</td>\n",
       "      <td>1700</td>\n",
       "      <td>3</td>\n",
       "      <td>Southwest</td>\n",
       "      <td>480</td>\n",
       "      <td>BIKE - STOLEN</td>\n",
       "      <td>19</td>\n",
       "      <td>X</td>\n",
       "      <td>1400 W  37TH                         ST</td>\n",
       "      <td>34.0210</td>\n",
       "      <td>-118.3002</td>\n",
       "    </tr>\n",
       "    <tr>\n",
       "      <th>3</th>\n",
       "      <td>200907217</td>\n",
       "      <td>03/10/2020 12:00:00 AM</td>\n",
       "      <td>2037</td>\n",
       "      <td>9</td>\n",
       "      <td>Van Nuys</td>\n",
       "      <td>343</td>\n",
       "      <td>SHOPLIFTING-GRAND THEFT ($950.01 &amp; OVER)</td>\n",
       "      <td>19</td>\n",
       "      <td>M</td>\n",
       "      <td>14000    RIVERSIDE                    DR</td>\n",
       "      <td>34.1576</td>\n",
       "      <td>-118.4387</td>\n",
       "    </tr>\n",
       "    <tr>\n",
       "      <th>4</th>\n",
       "      <td>220614831</td>\n",
       "      <td>08/17/2020 12:00:00 AM</td>\n",
       "      <td>1200</td>\n",
       "      <td>6</td>\n",
       "      <td>Hollywood</td>\n",
       "      <td>354</td>\n",
       "      <td>THEFT OF IDENTITY</td>\n",
       "      <td>28</td>\n",
       "      <td>M</td>\n",
       "      <td>1900    TRANSIENT</td>\n",
       "      <td>34.0944</td>\n",
       "      <td>-118.3277</td>\n",
       "    </tr>\n",
       "  </tbody>\n",
       "</table>\n",
       "</div>"
      ],
      "text/plain": [
       "       DR_NO                DATE OCC  TIME OCC  AREA  AREA NAME  Crm Cd  \\\n",
       "0  190326475  03/01/2020 12:00:00 AM      2130     7   Wilshire     510   \n",
       "1  200106753  02/08/2020 12:00:00 AM      1800     1    Central     330   \n",
       "2  200320258  11/04/2020 12:00:00 AM      1700     3  Southwest     480   \n",
       "3  200907217  03/10/2020 12:00:00 AM      2037     9   Van Nuys     343   \n",
       "4  220614831  08/17/2020 12:00:00 AM      1200     6  Hollywood     354   \n",
       "\n",
       "                                Crm Cd Desc  Vict Age Vict Sex  \\\n",
       "0                          VEHICLE - STOLEN         0        M   \n",
       "1                     BURGLARY FROM VEHICLE        47        M   \n",
       "2                             BIKE - STOLEN        19        X   \n",
       "3  SHOPLIFTING-GRAND THEFT ($950.01 & OVER)        19        M   \n",
       "4                         THEFT OF IDENTITY        28        M   \n",
       "\n",
       "                                   LOCATION      LAT       LON  \n",
       "0   1900 S  LONGWOOD                     AV  34.0375 -118.3506  \n",
       "1   1000 S  FLOWER                       ST  34.0444 -118.2628  \n",
       "2   1400 W  37TH                         ST  34.0210 -118.3002  \n",
       "3  14000    RIVERSIDE                    DR  34.1576 -118.4387  \n",
       "4                         1900    TRANSIENT  34.0944 -118.3277  "
      ]
     },
     "execution_count": 18,
     "metadata": {},
     "output_type": "execute_result"
    }
   ],
   "source": [
    "df.head(5)"
   ]
  },
  {
   "cell_type": "code",
   "execution_count": 19,
   "id": "4375e05e-c9fb-4193-9fa2-90bd610a276c",
   "metadata": {},
   "outputs": [
    {
     "data": {
      "text/plain": [
       "DR_NO               0\n",
       "DATE OCC            0\n",
       "TIME OCC            0\n",
       "AREA                0\n",
       "AREA NAME           0\n",
       "Crm Cd              0\n",
       "Crm Cd Desc         0\n",
       "Vict Age            0\n",
       "Vict Sex       139575\n",
       "LOCATION            0\n",
       "LAT                 0\n",
       "LON                 0\n",
       "dtype: int64"
      ]
     },
     "execution_count": 19,
     "metadata": {},
     "output_type": "execute_result"
    }
   ],
   "source": [
    "# Valores nulos de los atributos\n",
    "df.isnull().sum()"
   ]
  },
  {
   "cell_type": "code",
   "execution_count": 20,
   "id": "c9a93585-6752-46b4-8c4a-e35b570c9e86",
   "metadata": {},
   "outputs": [],
   "source": [
    "# Conversion de tipos de datos\n",
    "df['DR_NO'] = df['DR_NO'].astype('int64')                          # BIGINT\n",
    "df['DATE OCC'] = pd.to_datetime(df['DATE OCC'], format='%m/%d/%Y %I:%M:%S %p')  # TIMESTAMP\n",
    "df['TIME OCC'] = df['TIME OCC'].astype('int32')                    # INTEGER\n",
    "df['AREA'] = df['AREA'].astype('int32')                            # INTEGER\n",
    "df['AREA NAME'] = df['AREA NAME'].astype('str')                    # VARCHAR(50)\n",
    "df['Crm Cd'] = df['Crm Cd'].astype('int32')                        # INTEGER\n",
    "df['Crm Cd Desc'] = df['Crm Cd Desc'].astype('str')                # VARCHAR(255)\n",
    "df['Vict Age'] = df['Vict Age'].astype('int32')                    # INTEGER\n",
    "df['Vict Sex'] = df['Vict Sex'].astype('str')                      # CHAR(1)\n",
    "df['LOCATION'] = df['LOCATION'].astype('str')                      # VARCHAR(255)\n",
    "df['LAT'] = df['LAT'].astype('float64')                            # DOUBLE PRECISION\n",
    "df['LON'] = df['LON'].astype('float64')                            # DOUBLE PRECISION"
   ]
  },
  {
   "cell_type": "code",
   "execution_count": 21,
   "id": "bc374645-14be-48e3-9e12-6b3becae3b28",
   "metadata": {},
   "outputs": [],
   "source": [
    "df_procesado = df.copy()"
   ]
  },
  {
   "cell_type": "code",
   "execution_count": 22,
   "id": "014c42ca-3391-4041-bbdc-1a9e568eff88",
   "metadata": {},
   "outputs": [],
   "source": [
    "# Se renombran las columnas eliminando los espacios en blanco por _\n",
    "df_procesado.columns = df_procesado.columns.str.replace(' ', '_')"
   ]
  },
  {
   "cell_type": "code",
   "execution_count": 23,
   "id": "05c30a02-656a-4c98-ac0c-24c8e2e3eefe",
   "metadata": {},
   "outputs": [
    {
     "name": "stdout",
     "output_type": "stream",
     "text": [
      "<class 'pandas.core.frame.DataFrame'>\n",
      "RangeIndex: 986500 entries, 0 to 986499\n",
      "Data columns (total 12 columns):\n",
      " #   Column       Non-Null Count   Dtype         \n",
      "---  ------       --------------   -----         \n",
      " 0   DR_NO        986500 non-null  int64         \n",
      " 1   DATE_OCC     986500 non-null  datetime64[ns]\n",
      " 2   TIME_OCC     986500 non-null  int32         \n",
      " 3   AREA         986500 non-null  int32         \n",
      " 4   AREA_NAME    986500 non-null  object        \n",
      " 5   Crm_Cd       986500 non-null  int32         \n",
      " 6   Crm_Cd_Desc  986500 non-null  object        \n",
      " 7   Vict_Age     986500 non-null  int32         \n",
      " 8   Vict_Sex     986500 non-null  object        \n",
      " 9   LOCATION     986500 non-null  object        \n",
      " 10  LAT          986500 non-null  float64       \n",
      " 11  LON          986500 non-null  float64       \n",
      "dtypes: datetime64[ns](1), float64(2), int32(4), int64(1), object(4)\n",
      "memory usage: 75.3+ MB\n"
     ]
    }
   ],
   "source": [
    "df_procesado.info()"
   ]
  },
  {
   "cell_type": "markdown",
   "id": "e78eee09-7503-415f-a091-65b5c53879e5",
   "metadata": {
    "jp-MarkdownHeadingCollapsed": true,
    "tags": []
   },
   "source": [
    "## **Arrests LA 2020 - present. tsv**"
   ]
  },
  {
   "cell_type": "code",
   "execution_count": 27,
   "id": "90828c54-e91a-446f-be9b-36d8c1c1b1ca",
   "metadata": {},
   "outputs": [],
   "source": [
    "df_2 = pd.read_csv('Arrest_Data_from_2020_to_Present_20241020.tsv', sep='\\t')"
   ]
  },
  {
   "cell_type": "code",
   "execution_count": 28,
   "id": "bbb36cea-a73f-461c-b341-0b3b52c437b8",
   "metadata": {},
   "outputs": [
    {
     "name": "stdout",
     "output_type": "stream",
     "text": [
      "<class 'pandas.core.frame.DataFrame'>\n",
      "RangeIndex: 316100 entries, 0 to 316099\n",
      "Data columns (total 25 columns):\n",
      " #   Column                    Non-Null Count   Dtype  \n",
      "---  ------                    --------------   -----  \n",
      " 0   Report ID                 316100 non-null  int64  \n",
      " 1   Report Type               316100 non-null  object \n",
      " 2   Arrest Date               316100 non-null  object \n",
      " 3   Time                      316079 non-null  float64\n",
      " 4   Area ID                   316100 non-null  int64  \n",
      " 5   Area Name                 316100 non-null  object \n",
      " 6   Reporting District        316100 non-null  int64  \n",
      " 7   Age                       316100 non-null  int64  \n",
      " 8   Sex Code                  316100 non-null  object \n",
      " 9   Descent Code              316100 non-null  object \n",
      " 10  Charge Group Code         285867 non-null  float64\n",
      " 11  Charge Group Description  285819 non-null  object \n",
      " 12  Arrest Type Code          316099 non-null  object \n",
      " 13  Charge                    316100 non-null  object \n",
      " 14  Charge Description        285867 non-null  object \n",
      " 15  Disposition Description   288396 non-null  object \n",
      " 16  Address                   316100 non-null  object \n",
      " 17  Cross Street              145578 non-null  object \n",
      " 18  LAT                       316100 non-null  float64\n",
      " 19  LON                       316100 non-null  float64\n",
      " 20  Location                  316100 non-null  object \n",
      " 21  Booking Date              244524 non-null  object \n",
      " 22  Booking Time              244524 non-null  float64\n",
      " 23  Booking Location          244484 non-null  object \n",
      " 24  Booking Location Code     244520 non-null  float64\n",
      "dtypes: float64(6), int64(4), object(15)\n",
      "memory usage: 60.3+ MB\n"
     ]
    }
   ],
   "source": [
    "df_2.info()"
   ]
  },
  {
   "cell_type": "markdown",
   "id": "24041463-ba21-4e40-8ded-ceec5d3ef2ac",
   "metadata": {
    "tags": []
   },
   "source": [
    "### Preprocesado\n",
    "Se seleccionan los atributos mas importantes del dataframe. Además, se transforman los tipos de los atributos para que puedan ser insertados en una tabla de mariadb"
   ]
  },
  {
   "cell_type": "code",
   "execution_count": 29,
   "id": "e8f88d21-84f1-44da-9d46-0e04d2341099",
   "metadata": {},
   "outputs": [],
   "source": [
    "# Seleccion de las columnas\n",
    "df_2 = df_2[['Report ID','Arrest Date','Area ID','Area Name','Age','Sex Code','Charge', 'Disposition Description','Address','LAT','LON']]"
   ]
  },
  {
   "cell_type": "code",
   "execution_count": 30,
   "id": "9d292b70-1723-47d2-9e29-5d227c4d09f1",
   "metadata": {},
   "outputs": [
    {
     "data": {
      "text/html": [
       "<div>\n",
       "<style scoped>\n",
       "    .dataframe tbody tr th:only-of-type {\n",
       "        vertical-align: middle;\n",
       "    }\n",
       "\n",
       "    .dataframe tbody tr th {\n",
       "        vertical-align: top;\n",
       "    }\n",
       "\n",
       "    .dataframe thead th {\n",
       "        text-align: right;\n",
       "    }\n",
       "</style>\n",
       "<table border=\"1\" class=\"dataframe\">\n",
       "  <thead>\n",
       "    <tr style=\"text-align: right;\">\n",
       "      <th></th>\n",
       "      <th>Report ID</th>\n",
       "      <th>Arrest Date</th>\n",
       "      <th>Area ID</th>\n",
       "      <th>Area Name</th>\n",
       "      <th>Age</th>\n",
       "      <th>Sex Code</th>\n",
       "      <th>Charge</th>\n",
       "      <th>Disposition Description</th>\n",
       "      <th>Address</th>\n",
       "      <th>LAT</th>\n",
       "      <th>LON</th>\n",
       "    </tr>\n",
       "  </thead>\n",
       "  <tbody>\n",
       "    <tr>\n",
       "      <th>0</th>\n",
       "      <td>231413977</td>\n",
       "      <td>07/13/2023 12:00:00 AM</td>\n",
       "      <td>14</td>\n",
       "      <td>Pacific</td>\n",
       "      <td>29</td>\n",
       "      <td>M</td>\n",
       "      <td>25620(A)</td>\n",
       "      <td>MISDEMEANOR COMPLAINT FILED</td>\n",
       "      <td>BROOKS                       AV</td>\n",
       "      <td>33.9908</td>\n",
       "      <td>-118.4765</td>\n",
       "    </tr>\n",
       "    <tr>\n",
       "      <th>1</th>\n",
       "      <td>231715213</td>\n",
       "      <td>09/01/2023 12:00:00 AM</td>\n",
       "      <td>17</td>\n",
       "      <td>Devonshire</td>\n",
       "      <td>17</td>\n",
       "      <td>F</td>\n",
       "      <td>45.03(A)LAM</td>\n",
       "      <td>COUNSELED/RELEASED</td>\n",
       "      <td>15800    TULSA                        ST</td>\n",
       "      <td>34.2682</td>\n",
       "      <td>-118.4760</td>\n",
       "    </tr>\n",
       "    <tr>\n",
       "      <th>2</th>\n",
       "      <td>230612568</td>\n",
       "      <td>07/14/2023 12:00:00 AM</td>\n",
       "      <td>6</td>\n",
       "      <td>Hollywood</td>\n",
       "      <td>30</td>\n",
       "      <td>M</td>\n",
       "      <td>647(B)PC</td>\n",
       "      <td>MISDEMEANOR COMPLAINT FILED</td>\n",
       "      <td>WESTERN</td>\n",
       "      <td>34.0845</td>\n",
       "      <td>-118.3091</td>\n",
       "    </tr>\n",
       "    <tr>\n",
       "      <th>3</th>\n",
       "      <td>230119897</td>\n",
       "      <td>09/13/2023 12:00:00 AM</td>\n",
       "      <td>1</td>\n",
       "      <td>Central</td>\n",
       "      <td>50</td>\n",
       "      <td>M</td>\n",
       "      <td>41.18A1LAMC</td>\n",
       "      <td>MISDEMEANOR COMPLAINT FILED</td>\n",
       "      <td>5TH</td>\n",
       "      <td>34.0421</td>\n",
       "      <td>-118.2405</td>\n",
       "    </tr>\n",
       "    <tr>\n",
       "      <th>4</th>\n",
       "      <td>230214008</td>\n",
       "      <td>07/04/2023 12:00:00 AM</td>\n",
       "      <td>2</td>\n",
       "      <td>Rampart</td>\n",
       "      <td>38</td>\n",
       "      <td>M</td>\n",
       "      <td>41.27(C)LAM</td>\n",
       "      <td>MISDEMEANOR COMPLAINT FILED</td>\n",
       "      <td>BONNIE BRAE</td>\n",
       "      <td>34.0539</td>\n",
       "      <td>-118.2756</td>\n",
       "    </tr>\n",
       "  </tbody>\n",
       "</table>\n",
       "</div>"
      ],
      "text/plain": [
       "   Report ID             Arrest Date  Area ID   Area Name  Age Sex Code  \\\n",
       "0  231413977  07/13/2023 12:00:00 AM       14     Pacific   29        M   \n",
       "1  231715213  09/01/2023 12:00:00 AM       17  Devonshire   17        F   \n",
       "2  230612568  07/14/2023 12:00:00 AM        6   Hollywood   30        M   \n",
       "3  230119897  09/13/2023 12:00:00 AM        1     Central   50        M   \n",
       "4  230214008  07/04/2023 12:00:00 AM        2     Rampart   38        M   \n",
       "\n",
       "        Charge      Disposition Description  \\\n",
       "0     25620(A)  MISDEMEANOR COMPLAINT FILED   \n",
       "1  45.03(A)LAM           COUNSELED/RELEASED   \n",
       "2     647(B)PC  MISDEMEANOR COMPLAINT FILED   \n",
       "3  41.18A1LAMC  MISDEMEANOR COMPLAINT FILED   \n",
       "4  41.27(C)LAM  MISDEMEANOR COMPLAINT FILED   \n",
       "\n",
       "                                    Address      LAT       LON  \n",
       "0           BROOKS                       AV  33.9908 -118.4765  \n",
       "1  15800    TULSA                        ST  34.2682 -118.4760  \n",
       "2                                   WESTERN  34.0845 -118.3091  \n",
       "3                                       5TH  34.0421 -118.2405  \n",
       "4                               BONNIE BRAE  34.0539 -118.2756  "
      ]
     },
     "execution_count": 30,
     "metadata": {},
     "output_type": "execute_result"
    }
   ],
   "source": [
    "df_2.head(5)"
   ]
  },
  {
   "cell_type": "code",
   "execution_count": 31,
   "id": "aea0289a-5fea-4216-9706-20f8af03c10d",
   "metadata": {},
   "outputs": [
    {
     "data": {
      "text/plain": [
       "Report ID                      0\n",
       "Arrest Date                    0\n",
       "Area ID                        0\n",
       "Area Name                      0\n",
       "Age                            0\n",
       "Sex Code                       0\n",
       "Charge                         0\n",
       "Disposition Description    27704\n",
       "Address                        0\n",
       "LAT                            0\n",
       "LON                            0\n",
       "dtype: int64"
      ]
     },
     "execution_count": 31,
     "metadata": {},
     "output_type": "execute_result"
    }
   ],
   "source": [
    "# Valores nulos de los atributos\n",
    "df_2.isnull().sum()"
   ]
  },
  {
   "cell_type": "code",
   "execution_count": 32,
   "id": "2613a391-f881-4529-a673-726d4fe40056",
   "metadata": {},
   "outputs": [],
   "source": [
    "# Conversion de tipos de datos\n",
    "df_2['Report ID'] = df_2['Report ID'].astype('int64')                          # BIGINT\n",
    "df_2['Arrest Date'] = pd.to_datetime(df_2['Arrest Date'], format='%m/%d/%Y %I:%M:%S %p')  # TIMESTAMP\n",
    "df_2['Area ID'] = df_2['Area ID'].astype('int32')                              # INTEGER\n",
    "df_2['Age'] = df_2['Age'].astype('int32')                                      # INTEGER\n",
    "df_2['Sex Code'] = df_2['Sex Code'].astype('str')                              # CHAR(1)\n",
    "df_2['Charge'] = df_2['Charge'].astype('str')                                  # VARCHAR(255)\n",
    "df_2['Disposition Description'] = df_2['Disposition Description'].astype('str')  # VARCHAR(255)\n",
    "df_2['Address'] = df_2['Address'].astype('str')                                # VARCHAR(255)\n",
    "df_2['LAT'] = df_2['LAT'].astype('float64')                                    # DOUBLE PRECISION\n",
    "df_2['LON'] = df_2['LON'].astype('float64')    "
   ]
  },
  {
   "cell_type": "code",
   "execution_count": 33,
   "id": "fb845ad8-d374-474e-a301-7e7769aee5dc",
   "metadata": {},
   "outputs": [],
   "source": [
    "df_procesado_2 = df_2.copy()"
   ]
  },
  {
   "cell_type": "code",
   "execution_count": 35,
   "id": "d26e2526-27d0-4a1b-a3da-81aa0ebaec04",
   "metadata": {},
   "outputs": [],
   "source": [
    "df_procesado_2.columns = df_procesado_2.columns.str.replace(' ', '_')"
   ]
  },
  {
   "cell_type": "code",
   "execution_count": 36,
   "id": "cc132647-40eb-46f1-a5d8-2e1e15ca2ba6",
   "metadata": {},
   "outputs": [
    {
     "name": "stdout",
     "output_type": "stream",
     "text": [
      "<class 'pandas.core.frame.DataFrame'>\n",
      "RangeIndex: 316100 entries, 0 to 316099\n",
      "Data columns (total 11 columns):\n",
      " #   Column                   Non-Null Count   Dtype         \n",
      "---  ------                   --------------   -----         \n",
      " 0   Report_ID                316100 non-null  int64         \n",
      " 1   Arrest_Date              316100 non-null  datetime64[ns]\n",
      " 2   Area_ID                  316100 non-null  int32         \n",
      " 3   Area_Name                316100 non-null  object        \n",
      " 4   Age                      316100 non-null  int32         \n",
      " 5   Sex_Code                 316100 non-null  object        \n",
      " 6   Charge                   316100 non-null  object        \n",
      " 7   Disposition_Description  316100 non-null  object        \n",
      " 8   Address                  316100 non-null  object        \n",
      " 9   LAT                      316100 non-null  float64       \n",
      " 10  LON                      316100 non-null  float64       \n",
      "dtypes: datetime64[ns](1), float64(2), int32(2), int64(1), object(5)\n",
      "memory usage: 24.1+ MB\n"
     ]
    }
   ],
   "source": [
    "df_procesado_2.info()"
   ]
  },
  {
   "cell_type": "markdown",
   "id": "2b5d1fea-d1fe-4a82-88f5-af7e4106f17f",
   "metadata": {
    "jp-MarkdownHeadingCollapsed": true,
    "tags": []
   },
   "source": [
    "## **Creación BD PostgreSQL e Inserción**"
   ]
  },
  {
   "cell_type": "code",
   "execution_count": 29,
   "id": "37fb51ec-a93d-4b65-929e-bddfc216f050",
   "metadata": {},
   "outputs": [],
   "source": [
    "!pip install psycopg2-binary --quiet"
   ]
  },
  {
   "cell_type": "code",
   "execution_count": 24,
   "id": "24f66f25-b665-420a-b337-7870809f82f8",
   "metadata": {},
   "outputs": [],
   "source": [
    "import psycopg2"
   ]
  },
  {
   "cell_type": "code",
   "execution_count": 25,
   "id": "2ff683fb-ed0c-48a8-b893-f973c6b97b68",
   "metadata": {},
   "outputs": [
    {
     "name": "stdout",
     "output_type": "stream",
     "text": [
      "Conexión exitosa a PostgreSQL\n",
      "Tabla creada (si no existía).\n",
      "Filas insertadas: 986500\n",
      "Datos en arrests: [(190326475, datetime.datetime(2020, 3, 1, 0, 0), 2130, 7, 'Wilshire', 510, 'VEHICLE - STOLEN', 0, 'M  ', '1900 S  LONGWOOD                     AV', 34.0375, -118.3506), (200106753, datetime.datetime(2020, 2, 8, 0, 0), 1800, 1, 'Central', 330, 'BURGLARY FROM VEHICLE', 47, 'M  ', '1000 S  FLOWER                       ST', 34.0444, -118.2628), (200320258, datetime.datetime(2020, 11, 4, 0, 0), 1700, 3, 'Southwest', 480, 'BIKE - STOLEN', 19, 'X  ', '1400 W  37TH                         ST', 34.021, -118.3002), (200907217, datetime.datetime(2020, 3, 10, 0, 0), 2037, 9, 'Van Nuys', 343, 'SHOPLIFTING-GRAND THEFT ($950.01 & OVER)', 19, 'M  ', '14000    RIVERSIDE                    DR', 34.1576, -118.4387), (220614831, datetime.datetime(2020, 8, 17, 0, 0), 1200, 6, 'Hollywood', 354, 'THEFT OF IDENTITY', 28, 'M  ', '1900    TRANSIENT', 34.0944, -118.3277)]\n"
     ]
    }
   ],
   "source": [
    "try:\n",
    "    \n",
    "    ### Conexion a la BD de postgre ###\n",
    "    \n",
    "    conn_postgre = psycopg2.connect(\n",
    "        dbname='postgres',  \n",
    "        user='hive',        \n",
    "        password='password',  \n",
    "        host='hive4-postgres',         \n",
    "        port='5432'               \n",
    "    )\n",
    "    print(\"Conexión exitosa a PostgreSQL\")\n",
    "\n",
    "    cur = conn_postgre.cursor()\n",
    "    \n",
    "   \n",
    "    ### CREACION DE LA TABLA crimes ###\n",
    "    #cur.execute(\"\"\" DROP TABLE crimes;\"\"\")\n",
    "    cur.execute(\"\"\"\n",
    "    CREATE TABLE crimes (\n",
    "        DR_NO BIGINT PRIMARY KEY,\n",
    "        DATE_OCC TIMESTAMP,\n",
    "        TIME_OCC INTEGER,\n",
    "        AREA_ID INTEGER,\n",
    "        AREA_NAME VARCHAR(50),\n",
    "        CRIME_CODE INTEGER,\n",
    "        CRIME_DESCRIPTION VARCHAR(255),\n",
    "        VICT_AGE INTEGER,\n",
    "        GENDER CHAR(3),\n",
    "        LOCATION VARCHAR(255),\n",
    "        LATITUDE DOUBLE PRECISION,\n",
    "        LONGITUDE DOUBLE PRECISION\n",
    "    );\n",
    "    \"\"\")\n",
    "    \n",
    "    print(\"Tabla creada (si no existía).\")\n",
    "\n",
    "    \n",
    "    \n",
    "    ### INSERCIONES ###\n",
    "\n",
    "    values_to_insert = [\n",
    "        (row['DR_NO'], row['DATE_OCC'], row['TIME_OCC'], row['AREA'], \n",
    "         row['AREA_NAME'], row['Crm_Cd'], row['Crm_Cd_Desc'], \n",
    "         row['Vict_Age'], row['Vict_Sex'], row['LOCATION'], \n",
    "         row['LAT'], row['LON'])\n",
    "        for index, row in df_procesado.iterrows()\n",
    "    ]\n",
    "\n",
    "    insert_query = \"\"\"\n",
    "        INSERT INTO crimes (DR_NO, DATE_OCC, TIME_OCC, AREA_ID, AREA_NAME, CRIME_CODE, \n",
    "                            CRIME_DESCRIPTION, VICT_AGE, GENDER, LOCATION, LATITUDE, LONGITUDE)\n",
    "        VALUES (%s, %s, %s, %s, %s, %s, %s, %s, %s, %s, %s, %s)\n",
    "        \"\"\"\n",
    "    \n",
    "    cur.executemany(insert_query, values_to_insert)\n",
    "    conn_postgre.commit()\n",
    "    \n",
    "    print(f\"Filas insertadas: {len(values_to_insert)}\")\n",
    "\n",
    "    # Verificar y mostrar algunos datos\n",
    "    cur.execute(\"SELECT * FROM crimes LIMIT 5;\")\n",
    "    rows = cur.fetchall()\n",
    "    print(\"Datos en arrests:\", rows)\n",
    "\n",
    "finally:\n",
    "    \n",
    "    if 'cur' in locals():\n",
    "        cur.close()\n",
    "    if 'conn_postgre' in locals():\n",
    "        conn_postgre.close()"
   ]
  },
  {
   "cell_type": "markdown",
   "id": "4cbca524-61aa-4fe6-baff-a4bdae8153b4",
   "metadata": {
    "jp-MarkdownHeadingCollapsed": true,
    "tags": []
   },
   "source": [
    "## **Creación BD MariaDB e Inserción**"
   ]
  },
  {
   "cell_type": "code",
   "execution_count": 41,
   "id": "e2c22936-bf92-41b7-8d36-3c0b35ed6304",
   "metadata": {},
   "outputs": [],
   "source": [
    "!pip install mysql-connector-python --quiet"
   ]
  },
  {
   "cell_type": "code",
   "execution_count": 38,
   "id": "4a9a26c3-4957-4a4d-9ad3-dd24418e8ee4",
   "metadata": {},
   "outputs": [],
   "source": [
    "import mysql.connector"
   ]
  },
  {
   "cell_type": "code",
   "execution_count": 39,
   "id": "cd034cab-56da-470e-b102-d9f21ea1dc6e",
   "metadata": {},
   "outputs": [
    {
     "name": "stdout",
     "output_type": "stream",
     "text": [
      "Conexión exitosa a MariaDB\n",
      "Tabla creada (si no existía).\n"
     ]
    }
   ],
   "source": [
    "try:\n",
    "    ### Conexion a la BD de MariaDB ###\n",
    "    conn_mariadb = mysql.connector.connect(\n",
    "        user=\"root\",\n",
    "        password=\"my_password\",\n",
    "        host=\"hive4-mariadb\",\n",
    "        database=\"mariaGESDB\"\n",
    "    )\n",
    "    print(\"Conexión exitosa a MariaDB\")\n",
    "\n",
    "    ### CREACION DE LA TABLA arrests ###\n",
    "    create_table_query = \"\"\"\n",
    "    CREATE TABLE IF NOT EXISTS arrests (\n",
    "        Report_ID BIGINT PRIMARY KEY,\n",
    "        Arrest_Date DATETIME,\n",
    "        Area_ID INT,\n",
    "        Area_Name VARCHAR(50),\n",
    "        Age INT,\n",
    "        GENDER CHAR(3),\n",
    "        Charge VARCHAR(255),\n",
    "        Disposition_Description VARCHAR(255),\n",
    "        LOCATION VARCHAR(255),\n",
    "        LATITUDE DOUBLE PRECISION,\n",
    "        LONGITUDE DOUBLE PRECISION\n",
    "    );\n",
    "    \"\"\"\n",
    "\n",
    "    cur = conn_mariadb.cursor()\n",
    "    \n",
    "    cur.execute(create_table_query)\n",
    "    conn_mariadb.commit() \n",
    "\n",
    "    print(\"Tabla creada (si no existía).\")\n",
    "\n",
    "    ### INSERCIONES ###\n",
    "    \n",
    "    # Las inserciones se hacen de 1000 en 1000 tuplas\n",
    "    data_to_insert = []\n",
    "    for index, row in df_procesado_2.iterrows():\n",
    "        data_to_insert.append((\n",
    "            row['Report_ID'], \n",
    "            row['Arrest_Date'], \n",
    "            row['Area_ID'], \n",
    "            row['Area_Name'], \n",
    "            row['Age'], \n",
    "            row['Sex_Code'], \n",
    "            row['Charge'], \n",
    "            row['Disposition_Description'], \n",
    "            row['Address'], \n",
    "            row['LAT'], \n",
    "            row['LON']\n",
    "        ))\n",
    "\n",
    "    insert_query = \"\"\"\n",
    "    INSERT INTO arrests (Report_ID, Arrest_Date, Area_ID, Area_Name, Age, GENDER, \n",
    "                         Charge, Disposition_Description, LOCATION, LATITUDE, LONGITUDE)\n",
    "    VALUES (%s, %s, %s, %s, %s, %s, %s, %s, %s, %s, %s)\n",
    "    \"\"\"\n",
    "\n",
    "    # Tamaño de lote\n",
    "    batch_size = 1000 \n",
    "\n",
    "    # Inserciones en lotes\n",
    "    for i in range(0, len(data_to_insert), batch_size):\n",
    "        batch = data_to_insert[i:i + batch_size] \n",
    "        try:\n",
    "            cur.executemany(insert_query, batch)\n",
    "            conn_mariadb.commit() \n",
    "        except mysql.connector.Error as e:\n",
    "            print(f\"Error al insertar el lote {i // batch_size + 1}: {e}\")\n",
    "            conn_mariadb.rollback()\n",
    "\n",
    "except mysql.connector.Error as err:\n",
    "    print(f\"Error al conectar a MariaDB o al ejecutar una consulta: {err}\")\n",
    "    \n",
    "finally:\n",
    "    \n",
    "    if isinstance(cur, mysql.connector.cursor.MySQLCursor):\n",
    "        cur.close()\n",
    "    if isinstance(conn_mariadb, mysql.connector.connection.MySQLConnection):\n",
    "        conn_mariadb.close()"
   ]
  },
  {
   "cell_type": "code",
   "execution_count": 40,
   "id": "62792f37-4f89-441f-bae9-18bc3e9886b3",
   "metadata": {},
   "outputs": [
    {
     "name": "stdout",
     "output_type": "stream",
     "text": [
      "Report_ID  Arrest_Date          Area_ID  Area_Name    Age  \n",
      "-----------------------------------------------------------\n",
      "1062984    2020-12-02 00:00:00  5        Harbor       26   \n",
      "1518057    2022-12-14 00:00:00  4        Hollenbeck   35   \n",
      "2085744    2020-12-29 00:00:00  12       77th Street  12   \n",
      "2104327    2020-01-08 00:00:00  21       Topanga      28   \n",
      "3305911    2020-09-04 00:00:00  15       N Hollywood  26   \n",
      "\n",
      "\n",
      "GENDER  Charge       Disposition_Description      LOCATION                                 LATITUDE  \n",
      "-----------------------------------------------------------------------------------------------------\n",
      "M       21310PC      MISDEMEANOR COMPLAINT FILED  WATSON                       AV          33.7753   \n",
      "M       487(D)(1)PC  MISDEMEANOR COMPLAINT FILED  1500    CRUSADO                      LN  34.058    \n",
      "M       211PC        MISDEMEANOR COMPLAINT FILED  84TH                                     33.9564   \n",
      "M       11377HS      MISDEMEANOR COMPLAINT FILED  VENTURA                      BL          34.166    \n",
      "M       594(B)(1)PC  FELONY COMPLAINT FILED       LONGRIDGE                    AV          34.1939   \n",
      "\n",
      "\n",
      "LONGITUDE  \n",
      "-----------\n",
      "-118.2456  \n",
      "-118.1953  \n",
      "-118.309   \n",
      "-118.6233  \n",
      "-118.4214  \n",
      "\n",
      "\n"
     ]
    }
   ],
   "source": [
    "### CODIGO QUE SELECCIONA 5 FILAS DE LA TABLA CRIMES ###\n",
    "\n",
    "cur = conn_mariadb.cursor()\n",
    "cur.execute(\"SELECT * FROM arrests LIMIT 5;\")\n",
    "rows = cur.fetchall()\n",
    "\n",
    "column_names = [i[0] for i in cur.description]\n",
    "\n",
    "# Número máximo de columnas por línea\n",
    "max_columns_per_line = 5 \n",
    "\n",
    "# Función para calcular el ancho de cada columna dinámicamente\n",
    "def calculate_column_widths(column_names, rows, max_columns_per_line):\n",
    "    column_widths = []\n",
    "    \n",
    "    for i, col_name in enumerate(column_names):\n",
    "        # Determinar el ancho máximo de cada columna (máximo entre longitud de la cabecera y datos)\n",
    "        max_data_length = max([len(str(row[i])) for row in rows], default=0)\n",
    "        column_width = max(len(col_name), max_data_length) + 2  # Añadir 2 para margen\n",
    "        column_widths.append(column_width)\n",
    "    \n",
    "    return column_widths\n",
    "\n",
    "# Función para imprimir los datos en bloques\n",
    "def print_columns_in_blocks(column_names, rows, max_columns_per_line):\n",
    "    num_columns = len(column_names)\n",
    "    column_widths = calculate_column_widths(column_names, rows, max_columns_per_line)\n",
    "    \n",
    "    # Iteracion por bloques de columnas\n",
    "    for start_idx in range(0, num_columns, max_columns_per_line):\n",
    "        end_idx = min(start_idx + max_columns_per_line, num_columns)\n",
    "\n",
    "        # Imprimir las cabeceras para el bloque actual\n",
    "        header = \"\".join(f\"{column_names[i]:<{column_widths[i]}}\" for i in range(start_idx, end_idx))\n",
    "        print(header)\n",
    "        print(\"-\" * len(header))  # Separador\n",
    "\n",
    "        # Imprimir las filas de datos para este bloque\n",
    "        for row in rows:\n",
    "            row_data = \"\".join(f\"{str(row[i]):<{column_widths[i]}}\" for i in range(start_idx, end_idx))\n",
    "            print(row_data)\n",
    "\n",
    "        print(\"\\n\")  # Separador entre bloques de columnas\n",
    "\n",
    "# Llamar a la función para imprimir las columnas en bloques\n",
    "print_columns_in_blocks(column_names, rows, max_columns_per_line)"
   ]
  }
 ],
 "metadata": {
  "kernelspec": {
   "display_name": "Python 3 (ipykernel)",
   "language": "python",
   "name": "python3"
  },
  "language_info": {
   "codemirror_mode": {
    "name": "ipython",
    "version": 3
   },
   "file_extension": ".py",
   "mimetype": "text/x-python",
   "name": "python",
   "nbconvert_exporter": "python",
   "pygments_lexer": "ipython3",
   "version": "3.8.13"
  }
 },
 "nbformat": 4,
 "nbformat_minor": 5
}
